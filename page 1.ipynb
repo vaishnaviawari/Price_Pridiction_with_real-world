{
 "cells": [
  {
   "cell_type": "markdown",
   "id": "16f613fb-516b-42a2-b2eb-fcc31e719ea5",
   "metadata": {},
   "source": [
    "## Dragon Real Estate price predictor\n"
   ]
  },
  {
   "cell_type": "code",
   "execution_count": 1,
   "id": "3de31591-56e4-4431-851f-44b072930e6b",
   "metadata": {},
   "outputs": [],
   "source": [
    "import pandas as pd"
   ]
  },
  {
   "cell_type": "code",
   "execution_count": 2,
   "id": "8ed42e5b-2f36-48ab-8a6d-c169f4492e72",
   "metadata": {},
   "outputs": [],
   "source": [
    "housing= pd.read_csv(\"data1.csv\")"
   ]
  },
  {
   "cell_type": "code",
   "execution_count": 3,
   "id": "7f9bdc7e-d2f1-44c3-8cda-f40473592528",
   "metadata": {},
   "outputs": [
    {
     "data": {
      "text/html": [
       "<div>\n",
       "<style scoped>\n",
       "    .dataframe tbody tr th:only-of-type {\n",
       "        vertical-align: middle;\n",
       "    }\n",
       "\n",
       "    .dataframe tbody tr th {\n",
       "        vertical-align: top;\n",
       "    }\n",
       "\n",
       "    .dataframe thead th {\n",
       "        text-align: right;\n",
       "    }\n",
       "</style>\n",
       "<table border=\"1\" class=\"dataframe\">\n",
       "  <thead>\n",
       "    <tr style=\"text-align: right;\">\n",
       "      <th></th>\n",
       "      <th>CRIM</th>\n",
       "      <th>ZN</th>\n",
       "      <th>INDUS</th>\n",
       "      <th>CHAS</th>\n",
       "      <th>NOX</th>\n",
       "      <th>RM</th>\n",
       "      <th>AGE</th>\n",
       "      <th>DIS</th>\n",
       "      <th>RAD</th>\n",
       "      <th>TAX</th>\n",
       "      <th>PTRATIO</th>\n",
       "      <th>B</th>\n",
       "      <th>LSTAT</th>\n",
       "      <th>MEDV</th>\n",
       "    </tr>\n",
       "  </thead>\n",
       "  <tbody>\n",
       "    <tr>\n",
       "      <th>0</th>\n",
       "      <td>0.00632</td>\n",
       "      <td>18</td>\n",
       "      <td>2.31</td>\n",
       "      <td>0</td>\n",
       "      <td>0.538</td>\n",
       "      <td>6.575</td>\n",
       "      <td>65.2</td>\n",
       "      <td>4.09</td>\n",
       "      <td>1</td>\n",
       "      <td>296</td>\n",
       "      <td>15.3</td>\n",
       "      <td>396.9</td>\n",
       "      <td>4.98</td>\n",
       "      <td>24.0</td>\n",
       "    </tr>\n",
       "    <tr>\n",
       "      <th>1</th>\n",
       "      <td>0.00632</td>\n",
       "      <td>18</td>\n",
       "      <td>2.31</td>\n",
       "      <td>0</td>\n",
       "      <td>0.538</td>\n",
       "      <td>NaN</td>\n",
       "      <td>65.2</td>\n",
       "      <td>4.09</td>\n",
       "      <td>1</td>\n",
       "      <td>296</td>\n",
       "      <td>15.3</td>\n",
       "      <td>396.9</td>\n",
       "      <td>4.98</td>\n",
       "      <td>24.0</td>\n",
       "    </tr>\n",
       "    <tr>\n",
       "      <th>2</th>\n",
       "      <td>0.00632</td>\n",
       "      <td>18</td>\n",
       "      <td>2.31</td>\n",
       "      <td>0</td>\n",
       "      <td>0.538</td>\n",
       "      <td>6.575</td>\n",
       "      <td>65.2</td>\n",
       "      <td>4.09</td>\n",
       "      <td>1</td>\n",
       "      <td>296</td>\n",
       "      <td>15.3</td>\n",
       "      <td>396.9</td>\n",
       "      <td>4.98</td>\n",
       "      <td>24.0</td>\n",
       "    </tr>\n",
       "    <tr>\n",
       "      <th>3</th>\n",
       "      <td>0.00632</td>\n",
       "      <td>18</td>\n",
       "      <td>2.31</td>\n",
       "      <td>0</td>\n",
       "      <td>0.538</td>\n",
       "      <td>6.575</td>\n",
       "      <td>65.2</td>\n",
       "      <td>4.09</td>\n",
       "      <td>1</td>\n",
       "      <td>296</td>\n",
       "      <td>15.3</td>\n",
       "      <td>396.9</td>\n",
       "      <td>4.98</td>\n",
       "      <td>24.0</td>\n",
       "    </tr>\n",
       "    <tr>\n",
       "      <th>4</th>\n",
       "      <td>0.00632</td>\n",
       "      <td>18</td>\n",
       "      <td>2.31</td>\n",
       "      <td>0</td>\n",
       "      <td>0.538</td>\n",
       "      <td>6.575</td>\n",
       "      <td>65.2</td>\n",
       "      <td>4.09</td>\n",
       "      <td>1</td>\n",
       "      <td>296</td>\n",
       "      <td>15.3</td>\n",
       "      <td>396.9</td>\n",
       "      <td>4.98</td>\n",
       "      <td>24.0</td>\n",
       "    </tr>\n",
       "  </tbody>\n",
       "</table>\n",
       "</div>"
      ],
      "text/plain": [
       "     CRIM   ZN   INDUS  CHAS    NOX     RM   AGE   DIS  RAD  TAX    PTRATIO  \\\n",
       "0  0.00632  18    2.31     0  0.538  6.575  65.2  4.09    1   296      15.3   \n",
       "1  0.00632  18    2.31     0  0.538    NaN  65.2  4.09    1   296      15.3   \n",
       "2  0.00632  18    2.31     0  0.538  6.575  65.2  4.09    1   296      15.3   \n",
       "3  0.00632  18    2.31     0  0.538  6.575  65.2  4.09    1   296      15.3   \n",
       "4  0.00632  18    2.31     0  0.538  6.575  65.2  4.09    1   296      15.3   \n",
       "\n",
       "       B  LSTAT   MEDV  \n",
       "0  396.9    4.98  24.0  \n",
       "1  396.9    4.98  24.0  \n",
       "2  396.9    4.98  24.0  \n",
       "3  396.9    4.98  24.0  \n",
       "4  396.9    4.98  24.0  "
      ]
     },
     "execution_count": 3,
     "metadata": {},
     "output_type": "execute_result"
    }
   ],
   "source": [
    "housing.head()"
   ]
  },
  {
   "cell_type": "code",
   "execution_count": 4,
   "id": "02e76733-5013-4007-a5a3-a7e97920aeec",
   "metadata": {},
   "outputs": [
    {
     "name": "stdout",
     "output_type": "stream",
     "text": [
      "<class 'pandas.core.frame.DataFrame'>\n",
      "RangeIndex: 590 entries, 0 to 589\n",
      "Data columns (total 14 columns):\n",
      " #   Column    Non-Null Count  Dtype  \n",
      "---  ------    --------------  -----  \n",
      " 0   CRIM      590 non-null    float64\n",
      " 1   ZN        590 non-null    int64  \n",
      " 2    INDUS    590 non-null    float64\n",
      " 3   CHAS      590 non-null    int64  \n",
      " 4   NOX       590 non-null    float64\n",
      " 5    RM       579 non-null    float64\n",
      " 6   AGE       590 non-null    float64\n",
      " 7   DIS       590 non-null    float64\n",
      " 8   RAD       590 non-null    int64  \n",
      " 9   TAX       590 non-null    int64  \n",
      " 10   PTRATIO  590 non-null    float64\n",
      " 11  B         590 non-null    float64\n",
      " 12  LSTAT     590 non-null    float64\n",
      " 13  MEDV      590 non-null    float64\n",
      "dtypes: float64(10), int64(4)\n",
      "memory usage: 64.7 KB\n"
     ]
    }
   ],
   "source": [
    "housing.info()"
   ]
  },
  {
   "cell_type": "code",
   "execution_count": 5,
   "id": "6cb026be-edef-46f4-ba4c-f08ae3362abc",
   "metadata": {},
   "outputs": [
    {
     "data": {
      "text/plain": [
       "CHAS\n",
       "0    590\n",
       "Name: count, dtype: int64"
      ]
     },
     "execution_count": 5,
     "metadata": {},
     "output_type": "execute_result"
    }
   ],
   "source": [
    "housing['CHAS'].value_counts()"
   ]
  },
  {
   "cell_type": "code",
   "execution_count": 6,
   "id": "999f26bf-8760-47db-bf76-4664bce0434a",
   "metadata": {},
   "outputs": [
    {
     "data": {
      "text/html": [
       "<div>\n",
       "<style scoped>\n",
       "    .dataframe tbody tr th:only-of-type {\n",
       "        vertical-align: middle;\n",
       "    }\n",
       "\n",
       "    .dataframe tbody tr th {\n",
       "        vertical-align: top;\n",
       "    }\n",
       "\n",
       "    .dataframe thead th {\n",
       "        text-align: right;\n",
       "    }\n",
       "</style>\n",
       "<table border=\"1\" class=\"dataframe\">\n",
       "  <thead>\n",
       "    <tr style=\"text-align: right;\">\n",
       "      <th></th>\n",
       "      <th>CRIM</th>\n",
       "      <th>ZN</th>\n",
       "      <th>INDUS</th>\n",
       "      <th>CHAS</th>\n",
       "      <th>NOX</th>\n",
       "      <th>RM</th>\n",
       "      <th>AGE</th>\n",
       "      <th>DIS</th>\n",
       "      <th>RAD</th>\n",
       "      <th>TAX</th>\n",
       "      <th>PTRATIO</th>\n",
       "      <th>B</th>\n",
       "      <th>LSTAT</th>\n",
       "      <th>MEDV</th>\n",
       "    </tr>\n",
       "  </thead>\n",
       "  <tbody>\n",
       "    <tr>\n",
       "      <th>count</th>\n",
       "      <td>590.000000</td>\n",
       "      <td>590.000000</td>\n",
       "      <td>590.000000</td>\n",
       "      <td>590.0</td>\n",
       "      <td>590.000000</td>\n",
       "      <td>579.000000</td>\n",
       "      <td>590.000000</td>\n",
       "      <td>590.000000</td>\n",
       "      <td>590.000000</td>\n",
       "      <td>590.000000</td>\n",
       "      <td>590.000000</td>\n",
       "      <td>5.900000e+02</td>\n",
       "      <td>590.000000</td>\n",
       "      <td>590.000000</td>\n",
       "    </tr>\n",
       "    <tr>\n",
       "      <th>mean</th>\n",
       "      <td>0.037106</td>\n",
       "      <td>26.406780</td>\n",
       "      <td>13.011831</td>\n",
       "      <td>0.0</td>\n",
       "      <td>0.475790</td>\n",
       "      <td>6.298547</td>\n",
       "      <td>75.372203</td>\n",
       "      <td>3.690678</td>\n",
       "      <td>3.522034</td>\n",
       "      <td>274.142373</td>\n",
       "      <td>17.737966</td>\n",
       "      <td>3.969000e+02</td>\n",
       "      <td>9.696203</td>\n",
       "      <td>20.944305</td>\n",
       "    </tr>\n",
       "    <tr>\n",
       "      <th>std</th>\n",
       "      <td>0.013413</td>\n",
       "      <td>3.662867</td>\n",
       "      <td>4.662829</td>\n",
       "      <td>0.0</td>\n",
       "      <td>0.027105</td>\n",
       "      <td>0.117138</td>\n",
       "      <td>4.432069</td>\n",
       "      <td>0.173986</td>\n",
       "      <td>1.098860</td>\n",
       "      <td>9.523453</td>\n",
       "      <td>1.062231</td>\n",
       "      <td>5.689165e-14</td>\n",
       "      <td>2.054868</td>\n",
       "      <td>1.341840</td>\n",
       "    </tr>\n",
       "    <tr>\n",
       "      <th>min</th>\n",
       "      <td>0.006320</td>\n",
       "      <td>18.000000</td>\n",
       "      <td>2.310000</td>\n",
       "      <td>0.0</td>\n",
       "      <td>0.464000</td>\n",
       "      <td>6.249000</td>\n",
       "      <td>65.200000</td>\n",
       "      <td>3.615000</td>\n",
       "      <td>1.000000</td>\n",
       "      <td>270.000000</td>\n",
       "      <td>15.300000</td>\n",
       "      <td>3.969000e+02</td>\n",
       "      <td>4.980000</td>\n",
       "      <td>20.100000</td>\n",
       "    </tr>\n",
       "    <tr>\n",
       "      <th>25%</th>\n",
       "      <td>0.042940</td>\n",
       "      <td>28.000000</td>\n",
       "      <td>15.040000</td>\n",
       "      <td>0.0</td>\n",
       "      <td>0.464000</td>\n",
       "      <td>6.249000</td>\n",
       "      <td>77.300000</td>\n",
       "      <td>3.615000</td>\n",
       "      <td>4.000000</td>\n",
       "      <td>270.000000</td>\n",
       "      <td>18.200000</td>\n",
       "      <td>3.969000e+02</td>\n",
       "      <td>10.590000</td>\n",
       "      <td>20.247250</td>\n",
       "    </tr>\n",
       "    <tr>\n",
       "      <th>50%</th>\n",
       "      <td>0.042940</td>\n",
       "      <td>28.000000</td>\n",
       "      <td>15.040000</td>\n",
       "      <td>0.0</td>\n",
       "      <td>0.464000</td>\n",
       "      <td>6.249000</td>\n",
       "      <td>77.300000</td>\n",
       "      <td>3.615000</td>\n",
       "      <td>4.000000</td>\n",
       "      <td>270.000000</td>\n",
       "      <td>18.200000</td>\n",
       "      <td>3.969000e+02</td>\n",
       "      <td>10.590000</td>\n",
       "      <td>20.394500</td>\n",
       "    </tr>\n",
       "    <tr>\n",
       "      <th>75%</th>\n",
       "      <td>0.042940</td>\n",
       "      <td>28.000000</td>\n",
       "      <td>15.040000</td>\n",
       "      <td>0.0</td>\n",
       "      <td>0.464000</td>\n",
       "      <td>6.249000</td>\n",
       "      <td>77.300000</td>\n",
       "      <td>3.615000</td>\n",
       "      <td>4.000000</td>\n",
       "      <td>270.000000</td>\n",
       "      <td>18.200000</td>\n",
       "      <td>3.969000e+02</td>\n",
       "      <td>10.590000</td>\n",
       "      <td>20.541750</td>\n",
       "    </tr>\n",
       "    <tr>\n",
       "      <th>max</th>\n",
       "      <td>0.042940</td>\n",
       "      <td>28.000000</td>\n",
       "      <td>15.040000</td>\n",
       "      <td>0.0</td>\n",
       "      <td>0.538000</td>\n",
       "      <td>6.575000</td>\n",
       "      <td>77.300000</td>\n",
       "      <td>4.090000</td>\n",
       "      <td>4.000000</td>\n",
       "      <td>296.000000</td>\n",
       "      <td>18.200000</td>\n",
       "      <td>3.969000e+02</td>\n",
       "      <td>10.590000</td>\n",
       "      <td>24.000000</td>\n",
       "    </tr>\n",
       "  </tbody>\n",
       "</table>\n",
       "</div>"
      ],
      "text/plain": [
       "            CRIM           ZN       INDUS   CHAS         NOX          RM  \\\n",
       "count  590.000000  590.000000  590.000000  590.0  590.000000  579.000000   \n",
       "mean     0.037106   26.406780   13.011831    0.0    0.475790    6.298547   \n",
       "std      0.013413    3.662867    4.662829    0.0    0.027105    0.117138   \n",
       "min      0.006320   18.000000    2.310000    0.0    0.464000    6.249000   \n",
       "25%      0.042940   28.000000   15.040000    0.0    0.464000    6.249000   \n",
       "50%      0.042940   28.000000   15.040000    0.0    0.464000    6.249000   \n",
       "75%      0.042940   28.000000   15.040000    0.0    0.464000    6.249000   \n",
       "max      0.042940   28.000000   15.040000    0.0    0.538000    6.575000   \n",
       "\n",
       "              AGE         DIS         RAD        TAX      PTRATIO  \\\n",
       "count  590.000000  590.000000  590.000000  590.000000  590.000000   \n",
       "mean    75.372203    3.690678    3.522034  274.142373   17.737966   \n",
       "std      4.432069    0.173986    1.098860    9.523453    1.062231   \n",
       "min     65.200000    3.615000    1.000000  270.000000   15.300000   \n",
       "25%     77.300000    3.615000    4.000000  270.000000   18.200000   \n",
       "50%     77.300000    3.615000    4.000000  270.000000   18.200000   \n",
       "75%     77.300000    3.615000    4.000000  270.000000   18.200000   \n",
       "max     77.300000    4.090000    4.000000  296.000000   18.200000   \n",
       "\n",
       "                  B      LSTAT         MEDV  \n",
       "count  5.900000e+02  590.000000  590.000000  \n",
       "mean   3.969000e+02    9.696203   20.944305  \n",
       "std    5.689165e-14    2.054868    1.341840  \n",
       "min    3.969000e+02    4.980000   20.100000  \n",
       "25%    3.969000e+02   10.590000   20.247250  \n",
       "50%    3.969000e+02   10.590000   20.394500  \n",
       "75%    3.969000e+02   10.590000   20.541750  \n",
       "max    3.969000e+02   10.590000   24.000000  "
      ]
     },
     "execution_count": 6,
     "metadata": {},
     "output_type": "execute_result"
    }
   ],
   "source": [
    "housing.describe()"
   ]
  },
  {
   "cell_type": "code",
   "execution_count": 7,
   "id": "32a684f0-0b8a-4f4a-9b9d-651c8135d76a",
   "metadata": {},
   "outputs": [],
   "source": [
    "# %matplotlib inline"
   ]
  },
  {
   "cell_type": "code",
   "execution_count": 8,
   "id": "64560ae5-2b30-47a7-801c-9cf6b3e87d50",
   "metadata": {},
   "outputs": [],
   "source": [
    "# for plotting histogram\n",
    "# import matplotlib.pyplot as plt\n",
    "# housing.hist(bins=50, figsize=(20, 15))\n"
   ]
  },
  {
   "cell_type": "code",
   "execution_count": null,
   "id": "fb4d2f59-7090-4752-bcef-513095228a63",
   "metadata": {},
   "outputs": [],
   "source": [
    "\n"
   ]
  },
  {
   "cell_type": "markdown",
   "id": "e2cc2062-6325-4dc1-be1d-33f9019e0579",
   "metadata": {},
   "source": [
    "## Train Test Splitting\n",
    "\n"
   ]
  },
  {
   "cell_type": "code",
   "execution_count": null,
   "id": "f56882b0-f9a7-4e1f-ae2b-3e42d8c74ac6",
   "metadata": {},
   "outputs": [],
   "source": []
  },
  {
   "cell_type": "code",
   "execution_count": 9,
   "id": "3d8b5846-4e6d-4c08-9b13-241d43f1187a",
   "metadata": {},
   "outputs": [],
   "source": [
    "# for  learning purpose\n",
    "import numpy as np\n",
    "def split_train_test(data1, test_ratio):\n",
    "    np.random.seed(42)\n",
    "    shuffled = np.random.permutation(len(data1))\n",
    "    print(shuffled)\n",
    "    test_set_size = int(len(data1) * test_ratio)\n",
    "    test_indices = shuffled[ :test_set_size]\n",
    "    train_indices = shuffled[test_set_size:]\n",
    "    return data1.iloc[train_indices],data1.iloc[test_indices]   "
   ]
  },
  {
   "cell_type": "code",
   "execution_count": 10,
   "id": "72581f23-6ab4-4a4e-bb9f-a1e4337d28c7",
   "metadata": {},
   "outputs": [],
   "source": [
    "# train_set, test_set = split_train_test(housing, 0.2)"
   ]
  },
  {
   "cell_type": "code",
   "execution_count": 11,
   "id": "a7d8b894-5a43-4655-a920-757b25460b81",
   "metadata": {},
   "outputs": [],
   "source": [
    "# print(f\"Rows in train set: {len(train_set)}\\nRows in test set: {len(test_set)}\")"
   ]
  },
  {
   "cell_type": "code",
   "execution_count": 12,
   "id": "f61fe0d8-71ac-41e4-9fae-15cbe4e91c8f",
   "metadata": {},
   "outputs": [
    {
     "name": "stdout",
     "output_type": "stream",
     "text": [
      "Rows in train set: 472\n",
      "Rows in test set: 118\n"
     ]
    }
   ],
   "source": [
    "from sklearn.model_selection import train_test_split\n",
    "train_set, test_set = train_test_split(housing, test_size=0.2, random_state=42)\n",
    "print(f\"Rows in train set: {len(train_set)}\\nRows in test set: {len(test_set)}\")"
   ]
  },
  {
   "cell_type": "code",
   "execution_count": 13,
   "id": "d0facb33-cc48-42b7-a86f-8e8ee5f89c64",
   "metadata": {},
   "outputs": [],
   "source": [
    "from sklearn.model_selection import StratifiedShuffleSplit\n",
    "split = StratifiedShuffleSplit(n_splits=1, test_size=0.2, random_state=42)\n",
    "for train_index, test_index in split.split(housing, housing['CHAS']):\n",
    "    strat_train_set = housing.loc[train_index]\n",
    "    strat_test_set = housing.loc[test_index]\n",
    "    "
   ]
  },
  {
   "cell_type": "code",
   "execution_count": 14,
   "id": "428cf170-027f-4eda-a183-15e65ca255b9",
   "metadata": {},
   "outputs": [
    {
     "data": {
      "text/html": [
       "<div>\n",
       "<style scoped>\n",
       "    .dataframe tbody tr th:only-of-type {\n",
       "        vertical-align: middle;\n",
       "    }\n",
       "\n",
       "    .dataframe tbody tr th {\n",
       "        vertical-align: top;\n",
       "    }\n",
       "\n",
       "    .dataframe thead th {\n",
       "        text-align: right;\n",
       "    }\n",
       "</style>\n",
       "<table border=\"1\" class=\"dataframe\">\n",
       "  <thead>\n",
       "    <tr style=\"text-align: right;\">\n",
       "      <th></th>\n",
       "      <th>CRIM</th>\n",
       "      <th>ZN</th>\n",
       "      <th>INDUS</th>\n",
       "      <th>CHAS</th>\n",
       "      <th>NOX</th>\n",
       "      <th>RM</th>\n",
       "      <th>AGE</th>\n",
       "      <th>DIS</th>\n",
       "      <th>RAD</th>\n",
       "      <th>TAX</th>\n",
       "      <th>PTRATIO</th>\n",
       "      <th>B</th>\n",
       "      <th>LSTAT</th>\n",
       "      <th>MEDV</th>\n",
       "    </tr>\n",
       "  </thead>\n",
       "  <tbody>\n",
       "    <tr>\n",
       "      <th>count</th>\n",
       "      <td>118.000000</td>\n",
       "      <td>118.000000</td>\n",
       "      <td>118.000000</td>\n",
       "      <td>118.0</td>\n",
       "      <td>118.000000</td>\n",
       "      <td>114.000000</td>\n",
       "      <td>118.000000</td>\n",
       "      <td>118.000000</td>\n",
       "      <td>118.000000</td>\n",
       "      <td>118.000000</td>\n",
       "      <td>118.000000</td>\n",
       "      <td>1.180000e+02</td>\n",
       "      <td>118.000000</td>\n",
       "      <td>118.000000</td>\n",
       "    </tr>\n",
       "    <tr>\n",
       "      <th>mean</th>\n",
       "      <td>0.036733</td>\n",
       "      <td>26.305085</td>\n",
       "      <td>12.882373</td>\n",
       "      <td>0.0</td>\n",
       "      <td>0.476542</td>\n",
       "      <td>6.300474</td>\n",
       "      <td>75.249153</td>\n",
       "      <td>3.695508</td>\n",
       "      <td>3.491525</td>\n",
       "      <td>274.406780</td>\n",
       "      <td>17.708475</td>\n",
       "      <td>3.969000e+02</td>\n",
       "      <td>9.639153</td>\n",
       "      <td>20.978000</td>\n",
       "    </tr>\n",
       "    <tr>\n",
       "      <th>std</th>\n",
       "      <td>0.013798</td>\n",
       "      <td>3.767854</td>\n",
       "      <td>4.796479</td>\n",
       "      <td>0.0</td>\n",
       "      <td>0.027882</td>\n",
       "      <td>0.119398</td>\n",
       "      <td>4.559104</td>\n",
       "      <td>0.178973</td>\n",
       "      <td>1.130356</td>\n",
       "      <td>9.796421</td>\n",
       "      <td>1.092678</td>\n",
       "      <td>5.708582e-14</td>\n",
       "      <td>2.113766</td>\n",
       "      <td>1.380645</td>\n",
       "    </tr>\n",
       "    <tr>\n",
       "      <th>min</th>\n",
       "      <td>0.006320</td>\n",
       "      <td>18.000000</td>\n",
       "      <td>2.310000</td>\n",
       "      <td>0.0</td>\n",
       "      <td>0.464000</td>\n",
       "      <td>6.249000</td>\n",
       "      <td>65.200000</td>\n",
       "      <td>3.615000</td>\n",
       "      <td>1.000000</td>\n",
       "      <td>270.000000</td>\n",
       "      <td>15.300000</td>\n",
       "      <td>3.969000e+02</td>\n",
       "      <td>4.980000</td>\n",
       "      <td>20.100000</td>\n",
       "    </tr>\n",
       "    <tr>\n",
       "      <th>25%</th>\n",
       "      <td>0.042940</td>\n",
       "      <td>28.000000</td>\n",
       "      <td>15.040000</td>\n",
       "      <td>0.0</td>\n",
       "      <td>0.464000</td>\n",
       "      <td>6.249000</td>\n",
       "      <td>77.300000</td>\n",
       "      <td>3.615000</td>\n",
       "      <td>4.000000</td>\n",
       "      <td>270.000000</td>\n",
       "      <td>18.200000</td>\n",
       "      <td>3.969000e+02</td>\n",
       "      <td>10.590000</td>\n",
       "      <td>20.245000</td>\n",
       "    </tr>\n",
       "    <tr>\n",
       "      <th>50%</th>\n",
       "      <td>0.042940</td>\n",
       "      <td>28.000000</td>\n",
       "      <td>15.040000</td>\n",
       "      <td>0.0</td>\n",
       "      <td>0.464000</td>\n",
       "      <td>6.249000</td>\n",
       "      <td>77.300000</td>\n",
       "      <td>3.615000</td>\n",
       "      <td>4.000000</td>\n",
       "      <td>270.000000</td>\n",
       "      <td>18.200000</td>\n",
       "      <td>3.969000e+02</td>\n",
       "      <td>10.590000</td>\n",
       "      <td>20.397000</td>\n",
       "    </tr>\n",
       "    <tr>\n",
       "      <th>75%</th>\n",
       "      <td>0.042940</td>\n",
       "      <td>28.000000</td>\n",
       "      <td>15.040000</td>\n",
       "      <td>0.0</td>\n",
       "      <td>0.464000</td>\n",
       "      <td>6.249000</td>\n",
       "      <td>77.300000</td>\n",
       "      <td>3.615000</td>\n",
       "      <td>4.000000</td>\n",
       "      <td>270.000000</td>\n",
       "      <td>18.200000</td>\n",
       "      <td>3.969000e+02</td>\n",
       "      <td>10.590000</td>\n",
       "      <td>20.547750</td>\n",
       "    </tr>\n",
       "    <tr>\n",
       "      <th>max</th>\n",
       "      <td>0.042940</td>\n",
       "      <td>28.000000</td>\n",
       "      <td>15.040000</td>\n",
       "      <td>0.0</td>\n",
       "      <td>0.538000</td>\n",
       "      <td>6.575000</td>\n",
       "      <td>77.300000</td>\n",
       "      <td>4.090000</td>\n",
       "      <td>4.000000</td>\n",
       "      <td>296.000000</td>\n",
       "      <td>18.200000</td>\n",
       "      <td>3.969000e+02</td>\n",
       "      <td>10.590000</td>\n",
       "      <td>24.000000</td>\n",
       "    </tr>\n",
       "  </tbody>\n",
       "</table>\n",
       "</div>"
      ],
      "text/plain": [
       "            CRIM           ZN       INDUS   CHAS         NOX          RM  \\\n",
       "count  118.000000  118.000000  118.000000  118.0  118.000000  114.000000   \n",
       "mean     0.036733   26.305085   12.882373    0.0    0.476542    6.300474   \n",
       "std      0.013798    3.767854    4.796479    0.0    0.027882    0.119398   \n",
       "min      0.006320   18.000000    2.310000    0.0    0.464000    6.249000   \n",
       "25%      0.042940   28.000000   15.040000    0.0    0.464000    6.249000   \n",
       "50%      0.042940   28.000000   15.040000    0.0    0.464000    6.249000   \n",
       "75%      0.042940   28.000000   15.040000    0.0    0.464000    6.249000   \n",
       "max      0.042940   28.000000   15.040000    0.0    0.538000    6.575000   \n",
       "\n",
       "              AGE         DIS         RAD        TAX      PTRATIO  \\\n",
       "count  118.000000  118.000000  118.000000  118.000000  118.000000   \n",
       "mean    75.249153    3.695508    3.491525  274.406780   17.708475   \n",
       "std      4.559104    0.178973    1.130356    9.796421    1.092678   \n",
       "min     65.200000    3.615000    1.000000  270.000000   15.300000   \n",
       "25%     77.300000    3.615000    4.000000  270.000000   18.200000   \n",
       "50%     77.300000    3.615000    4.000000  270.000000   18.200000   \n",
       "75%     77.300000    3.615000    4.000000  270.000000   18.200000   \n",
       "max     77.300000    4.090000    4.000000  296.000000   18.200000   \n",
       "\n",
       "                  B      LSTAT         MEDV  \n",
       "count  1.180000e+02  118.000000  118.000000  \n",
       "mean   3.969000e+02    9.639153   20.978000  \n",
       "std    5.708582e-14    2.113766    1.380645  \n",
       "min    3.969000e+02    4.980000   20.100000  \n",
       "25%    3.969000e+02   10.590000   20.245000  \n",
       "50%    3.969000e+02   10.590000   20.397000  \n",
       "75%    3.969000e+02   10.590000   20.547750  \n",
       "max    3.969000e+02   10.590000   24.000000  "
      ]
     },
     "execution_count": 14,
     "metadata": {},
     "output_type": "execute_result"
    }
   ],
   "source": [
    "strat_test_set.describe()"
   ]
  },
  {
   "cell_type": "code",
   "execution_count": 15,
   "id": "5579e005-ea4b-4801-8327-a58b1e08a89a",
   "metadata": {},
   "outputs": [
    {
     "data": {
      "text/plain": [
       "CHAS\n",
       "0    118\n",
       "Name: count, dtype: int64"
      ]
     },
     "execution_count": 15,
     "metadata": {},
     "output_type": "execute_result"
    }
   ],
   "source": [
    "strat_test_set['CHAS'].value_counts()"
   ]
  },
  {
   "cell_type": "code",
   "execution_count": 16,
   "id": "eede216b-a839-4b87-b334-cabf089375f9",
   "metadata": {},
   "outputs": [
    {
     "data": {
      "text/plain": [
       "CHAS\n",
       "0    472\n",
       "Name: count, dtype: int64"
      ]
     },
     "execution_count": 16,
     "metadata": {},
     "output_type": "execute_result"
    }
   ],
   "source": [
    "strat_train_set['CHAS'].value_counts()"
   ]
  },
  {
   "cell_type": "code",
   "execution_count": 17,
   "id": "c876634f-fee4-4c51-96b5-08cdda8ec523",
   "metadata": {},
   "outputs": [],
   "source": [
    "# 97/7"
   ]
  },
  {
   "cell_type": "code",
   "execution_count": 18,
   "id": "44e82ff9-dbf2-4109-b7e4-1c739a4bf3de",
   "metadata": {},
   "outputs": [],
   "source": [
    "# 376/28"
   ]
  },
  {
   "cell_type": "code",
   "execution_count": 19,
   "id": "ac891bfd-294f-4e8a-a5c7-dc677aa5724f",
   "metadata": {},
   "outputs": [
    {
     "data": {
      "text/html": [
       "<div>\n",
       "<style scoped>\n",
       "    .dataframe tbody tr th:only-of-type {\n",
       "        vertical-align: middle;\n",
       "    }\n",
       "\n",
       "    .dataframe tbody tr th {\n",
       "        vertical-align: top;\n",
       "    }\n",
       "\n",
       "    .dataframe thead th {\n",
       "        text-align: right;\n",
       "    }\n",
       "</style>\n",
       "<table border=\"1\" class=\"dataframe\">\n",
       "  <thead>\n",
       "    <tr style=\"text-align: right;\">\n",
       "      <th></th>\n",
       "      <th>CRIM</th>\n",
       "      <th>ZN</th>\n",
       "      <th>INDUS</th>\n",
       "      <th>CHAS</th>\n",
       "      <th>NOX</th>\n",
       "      <th>RM</th>\n",
       "      <th>AGE</th>\n",
       "      <th>DIS</th>\n",
       "      <th>RAD</th>\n",
       "      <th>TAX</th>\n",
       "      <th>PTRATIO</th>\n",
       "      <th>B</th>\n",
       "      <th>LSTAT</th>\n",
       "      <th>MEDV</th>\n",
       "    </tr>\n",
       "  </thead>\n",
       "  <tbody>\n",
       "    <tr>\n",
       "      <th>257</th>\n",
       "      <td>0.04294</td>\n",
       "      <td>28</td>\n",
       "      <td>15.04</td>\n",
       "      <td>0</td>\n",
       "      <td>0.464</td>\n",
       "      <td>6.249</td>\n",
       "      <td>77.3</td>\n",
       "      <td>3.615</td>\n",
       "      <td>4</td>\n",
       "      <td>270</td>\n",
       "      <td>18.2</td>\n",
       "      <td>396.9</td>\n",
       "      <td>10.59</td>\n",
       "      <td>20.223</td>\n",
       "    </tr>\n",
       "    <tr>\n",
       "      <th>26</th>\n",
       "      <td>0.00632</td>\n",
       "      <td>18</td>\n",
       "      <td>2.31</td>\n",
       "      <td>0</td>\n",
       "      <td>0.538</td>\n",
       "      <td>6.575</td>\n",
       "      <td>65.2</td>\n",
       "      <td>4.090</td>\n",
       "      <td>1</td>\n",
       "      <td>296</td>\n",
       "      <td>15.3</td>\n",
       "      <td>396.9</td>\n",
       "      <td>4.98</td>\n",
       "      <td>24.000</td>\n",
       "    </tr>\n",
       "    <tr>\n",
       "      <th>37</th>\n",
       "      <td>0.00632</td>\n",
       "      <td>18</td>\n",
       "      <td>2.31</td>\n",
       "      <td>0</td>\n",
       "      <td>0.538</td>\n",
       "      <td>NaN</td>\n",
       "      <td>65.2</td>\n",
       "      <td>4.090</td>\n",
       "      <td>1</td>\n",
       "      <td>296</td>\n",
       "      <td>15.3</td>\n",
       "      <td>396.9</td>\n",
       "      <td>4.98</td>\n",
       "      <td>24.000</td>\n",
       "    </tr>\n",
       "    <tr>\n",
       "      <th>332</th>\n",
       "      <td>0.04294</td>\n",
       "      <td>28</td>\n",
       "      <td>15.04</td>\n",
       "      <td>0</td>\n",
       "      <td>0.464</td>\n",
       "      <td>6.249</td>\n",
       "      <td>77.3</td>\n",
       "      <td>3.615</td>\n",
       "      <td>4</td>\n",
       "      <td>270</td>\n",
       "      <td>18.2</td>\n",
       "      <td>396.9</td>\n",
       "      <td>10.59</td>\n",
       "      <td>20.298</td>\n",
       "    </tr>\n",
       "    <tr>\n",
       "      <th>364</th>\n",
       "      <td>0.04294</td>\n",
       "      <td>28</td>\n",
       "      <td>15.04</td>\n",
       "      <td>0</td>\n",
       "      <td>0.464</td>\n",
       "      <td>6.249</td>\n",
       "      <td>77.3</td>\n",
       "      <td>3.615</td>\n",
       "      <td>4</td>\n",
       "      <td>270</td>\n",
       "      <td>18.2</td>\n",
       "      <td>396.9</td>\n",
       "      <td>10.59</td>\n",
       "      <td>20.330</td>\n",
       "    </tr>\n",
       "    <tr>\n",
       "      <th>...</th>\n",
       "      <td>...</td>\n",
       "      <td>...</td>\n",
       "      <td>...</td>\n",
       "      <td>...</td>\n",
       "      <td>...</td>\n",
       "      <td>...</td>\n",
       "      <td>...</td>\n",
       "      <td>...</td>\n",
       "      <td>...</td>\n",
       "      <td>...</td>\n",
       "      <td>...</td>\n",
       "      <td>...</td>\n",
       "      <td>...</td>\n",
       "      <td>...</td>\n",
       "    </tr>\n",
       "    <tr>\n",
       "      <th>291</th>\n",
       "      <td>0.04294</td>\n",
       "      <td>28</td>\n",
       "      <td>15.04</td>\n",
       "      <td>0</td>\n",
       "      <td>0.464</td>\n",
       "      <td>6.249</td>\n",
       "      <td>77.3</td>\n",
       "      <td>3.615</td>\n",
       "      <td>4</td>\n",
       "      <td>270</td>\n",
       "      <td>18.2</td>\n",
       "      <td>396.9</td>\n",
       "      <td>10.59</td>\n",
       "      <td>20.257</td>\n",
       "    </tr>\n",
       "    <tr>\n",
       "      <th>116</th>\n",
       "      <td>0.04294</td>\n",
       "      <td>28</td>\n",
       "      <td>15.04</td>\n",
       "      <td>0</td>\n",
       "      <td>0.464</td>\n",
       "      <td>6.249</td>\n",
       "      <td>77.3</td>\n",
       "      <td>3.615</td>\n",
       "      <td>4</td>\n",
       "      <td>270</td>\n",
       "      <td>18.2</td>\n",
       "      <td>396.9</td>\n",
       "      <td>10.59</td>\n",
       "      <td>20.820</td>\n",
       "    </tr>\n",
       "    <tr>\n",
       "      <th>72</th>\n",
       "      <td>0.00632</td>\n",
       "      <td>18</td>\n",
       "      <td>2.31</td>\n",
       "      <td>0</td>\n",
       "      <td>0.538</td>\n",
       "      <td>6.575</td>\n",
       "      <td>65.2</td>\n",
       "      <td>4.090</td>\n",
       "      <td>1</td>\n",
       "      <td>296</td>\n",
       "      <td>15.3</td>\n",
       "      <td>396.9</td>\n",
       "      <td>4.98</td>\n",
       "      <td>24.000</td>\n",
       "    </tr>\n",
       "    <tr>\n",
       "      <th>524</th>\n",
       "      <td>0.04294</td>\n",
       "      <td>28</td>\n",
       "      <td>15.04</td>\n",
       "      <td>0</td>\n",
       "      <td>0.464</td>\n",
       "      <td>6.249</td>\n",
       "      <td>77.3</td>\n",
       "      <td>3.615</td>\n",
       "      <td>4</td>\n",
       "      <td>270</td>\n",
       "      <td>18.2</td>\n",
       "      <td>396.9</td>\n",
       "      <td>10.59</td>\n",
       "      <td>20.490</td>\n",
       "    </tr>\n",
       "    <tr>\n",
       "      <th>534</th>\n",
       "      <td>0.04294</td>\n",
       "      <td>28</td>\n",
       "      <td>15.04</td>\n",
       "      <td>0</td>\n",
       "      <td>0.464</td>\n",
       "      <td>6.249</td>\n",
       "      <td>77.3</td>\n",
       "      <td>3.615</td>\n",
       "      <td>4</td>\n",
       "      <td>270</td>\n",
       "      <td>18.2</td>\n",
       "      <td>396.9</td>\n",
       "      <td>10.59</td>\n",
       "      <td>20.500</td>\n",
       "    </tr>\n",
       "  </tbody>\n",
       "</table>\n",
       "<p>472 rows × 14 columns</p>\n",
       "</div>"
      ],
      "text/plain": [
       "       CRIM   ZN   INDUS  CHAS    NOX     RM   AGE    DIS  RAD  TAX   \\\n",
       "257  0.04294  28   15.04     0  0.464  6.249  77.3  3.615    4   270   \n",
       "26   0.00632  18    2.31     0  0.538  6.575  65.2  4.090    1   296   \n",
       "37   0.00632  18    2.31     0  0.538    NaN  65.2  4.090    1   296   \n",
       "332  0.04294  28   15.04     0  0.464  6.249  77.3  3.615    4   270   \n",
       "364  0.04294  28   15.04     0  0.464  6.249  77.3  3.615    4   270   \n",
       "..       ...  ..     ...   ...    ...    ...   ...    ...  ...   ...   \n",
       "291  0.04294  28   15.04     0  0.464  6.249  77.3  3.615    4   270   \n",
       "116  0.04294  28   15.04     0  0.464  6.249  77.3  3.615    4   270   \n",
       "72   0.00632  18    2.31     0  0.538  6.575  65.2  4.090    1   296   \n",
       "524  0.04294  28   15.04     0  0.464  6.249  77.3  3.615    4   270   \n",
       "534  0.04294  28   15.04     0  0.464  6.249  77.3  3.615    4   270   \n",
       "\n",
       "      PTRATIO      B  LSTAT     MEDV  \n",
       "257      18.2  396.9   10.59  20.223  \n",
       "26       15.3  396.9    4.98  24.000  \n",
       "37       15.3  396.9    4.98  24.000  \n",
       "332      18.2  396.9   10.59  20.298  \n",
       "364      18.2  396.9   10.59  20.330  \n",
       "..        ...    ...     ...     ...  \n",
       "291      18.2  396.9   10.59  20.257  \n",
       "116      18.2  396.9   10.59  20.820  \n",
       "72       15.3  396.9    4.98  24.000  \n",
       "524      18.2  396.9   10.59  20.490  \n",
       "534      18.2  396.9   10.59  20.500  \n",
       "\n",
       "[472 rows x 14 columns]"
      ]
     },
     "execution_count": 19,
     "metadata": {},
     "output_type": "execute_result"
    }
   ],
   "source": [
    "# copy should be made to deal eith big data set \n",
    "housing = strat_train_set.copy()\n",
    "housing"
   ]
  },
  {
   "cell_type": "markdown",
   "id": "14de9ae6-dc9f-4fb6-b7fd-552d01ebcc6c",
   "metadata": {},
   "source": [
    "## looking for correlation\n",
    "\n"
   ]
  },
  {
   "cell_type": "code",
   "execution_count": 20,
   "id": "dd1c725a-1aeb-451a-a87a-eb2563954b5f",
   "metadata": {},
   "outputs": [
    {
     "data": {
      "text/plain": [
       "MEDV        1.000000\n",
       "DIS         0.991983\n",
       "TAX         0.991983\n",
       "NOX         0.991983\n",
       " RM         0.991667\n",
       "AGE        -0.991983\n",
       "RAD        -0.991983\n",
       "ZN         -0.991983\n",
       "LSTAT      -0.991983\n",
       "CRIM       -0.991983\n",
       " INDUS     -0.991983\n",
       " PTRATIO   -0.991983\n",
       "CHAS             NaN\n",
       "B                NaN\n",
       "Name: MEDV, dtype: float64"
      ]
     },
     "execution_count": 20,
     "metadata": {},
     "output_type": "execute_result"
    }
   ],
   "source": [
    "corr_matrix = housing.corr()\n",
    "corr_matrix['MEDV'] .sort_values(ascending=False)"
   ]
  },
  {
   "cell_type": "code",
   "execution_count": null,
   "id": "fce80b30-6fc3-4dcb-a208-005fd0fb6c5f",
   "metadata": {},
   "outputs": [],
   "source": []
  },
  {
   "cell_type": "code",
   "execution_count": 21,
   "id": "ee3a1e87-a814-4d03-b827-9a9d8da6d4fa",
   "metadata": {},
   "outputs": [
    {
     "data": {
      "text/plain": [
       "array([[<Axes: xlabel='MEDV', ylabel='MEDV'>,\n",
       "        <Axes: xlabel='ZN', ylabel='MEDV'>],\n",
       "       [<Axes: xlabel='MEDV', ylabel='ZN'>,\n",
       "        <Axes: xlabel='ZN', ylabel='ZN'>]], dtype=object)"
      ]
     },
     "execution_count": 21,
     "metadata": {},
     "output_type": "execute_result"
    },
    {
     "data": {
      "image/png": "[encoded data removed]",
      "text/plain": [
       "<Figure size 1200x800 with 4 Axes>"
      ]
     },
     "metadata": {},
     "output_type": "display_data"
    }
   ],
   "source": [
    "from pandas.plotting import scatter_matrix\n",
    "attribute = [\"MEDV\",\"ZN\"]\n",
    "scatter_matrix(housing[attribute], figsize =(12,8))\n"
   ]
  },
  {
   "cell_type": "code",
   "execution_count": 22,
   "id": "3bb81e79-3bf2-4e49-a6eb-8e7eba73efa2",
   "metadata": {},
   "outputs": [
    {
     "data": {
      "text/plain": [
       "<Axes: xlabel='ZN', ylabel='MEDV'>"
      ]
     },
     "execution_count": 22,
     "metadata": {},
     "output_type": "execute_result"
    },
    {
     "data": {
      "image/png": "[encoded data removed]",
      "text/plain": [
       "<Figure size 640x480 with 1 Axes>"
      ]
     },
     "metadata": {},
     "output_type": "display_data"
    }
   ],
   "source": [
    "housing.plot(kind=\"scatter\",x=\"ZN\", y=\"MEDV\", alpha=0.8)"
   ]
  },
  {
   "cell_type": "markdown",
   "id": "9f9256a2-89f0-4131-8daa-ec61df265ace",
   "metadata": {},
   "source": [
    "## Trying out attribute combinations"
   ]
  },
  {
   "cell_type": "code",
   "execution_count": 23,
   "id": "92fdc509-ca95-4242-a9d5-db83d3763aaf",
   "metadata": {},
   "outputs": [
    {
     "data": {
      "text/plain": [
       "257    60.344828\n",
       "26     33.457249\n",
       "37     33.457249\n",
       "332    60.344828\n",
       "364    60.344828\n",
       "         ...    \n",
       "291    60.344828\n",
       "116    60.344828\n",
       "72     33.457249\n",
       "524    60.344828\n",
       "534    60.344828\n",
       "Name: TAXRM, Length: 472, dtype: float64"
      ]
     },
     "execution_count": 23,
     "metadata": {},
     "output_type": "execute_result"
    }
   ],
   "source": [
    "housing[\"TAXRM\"] = housing['ZN']/housing['NOX']\n",
    "housing[\"TAXRM\"]"
   ]
  },
  {
   "cell_type": "code",
   "execution_count": 24,
   "id": "94240991-94c8-49a2-88e4-15a93f658f53",
   "metadata": {},
   "outputs": [
    {
     "data": {
      "text/html": [
       "<div>\n",
       "<style scoped>\n",
       "    .dataframe tbody tr th:only-of-type {\n",
       "        vertical-align: middle;\n",
       "    }\n",
       "\n",
       "    .dataframe tbody tr th {\n",
       "        vertical-align: top;\n",
       "    }\n",
       "\n",
       "    .dataframe thead th {\n",
       "        text-align: right;\n",
       "    }\n",
       "</style>\n",
       "<table border=\"1\" class=\"dataframe\">\n",
       "  <thead>\n",
       "    <tr style=\"text-align: right;\">\n",
       "      <th></th>\n",
       "      <th>CRIM</th>\n",
       "      <th>ZN</th>\n",
       "      <th>INDUS</th>\n",
       "      <th>CHAS</th>\n",
       "      <th>NOX</th>\n",
       "      <th>RM</th>\n",
       "      <th>AGE</th>\n",
       "      <th>DIS</th>\n",
       "      <th>RAD</th>\n",
       "      <th>TAX</th>\n",
       "      <th>PTRATIO</th>\n",
       "      <th>B</th>\n",
       "      <th>LSTAT</th>\n",
       "      <th>MEDV</th>\n",
       "      <th>TAXRM</th>\n",
       "    </tr>\n",
       "  </thead>\n",
       "  <tbody>\n",
       "    <tr>\n",
       "      <th>257</th>\n",
       "      <td>0.04294</td>\n",
       "      <td>28</td>\n",
       "      <td>15.04</td>\n",
       "      <td>0</td>\n",
       "      <td>0.464</td>\n",
       "      <td>6.249</td>\n",
       "      <td>77.3</td>\n",
       "      <td>3.615</td>\n",
       "      <td>4</td>\n",
       "      <td>270</td>\n",
       "      <td>18.2</td>\n",
       "      <td>396.9</td>\n",
       "      <td>10.59</td>\n",
       "      <td>20.223</td>\n",
       "      <td>60.344828</td>\n",
       "    </tr>\n",
       "    <tr>\n",
       "      <th>26</th>\n",
       "      <td>0.00632</td>\n",
       "      <td>18</td>\n",
       "      <td>2.31</td>\n",
       "      <td>0</td>\n",
       "      <td>0.538</td>\n",
       "      <td>6.575</td>\n",
       "      <td>65.2</td>\n",
       "      <td>4.090</td>\n",
       "      <td>1</td>\n",
       "      <td>296</td>\n",
       "      <td>15.3</td>\n",
       "      <td>396.9</td>\n",
       "      <td>4.98</td>\n",
       "      <td>24.000</td>\n",
       "      <td>33.457249</td>\n",
       "    </tr>\n",
       "    <tr>\n",
       "      <th>37</th>\n",
       "      <td>0.00632</td>\n",
       "      <td>18</td>\n",
       "      <td>2.31</td>\n",
       "      <td>0</td>\n",
       "      <td>0.538</td>\n",
       "      <td>NaN</td>\n",
       "      <td>65.2</td>\n",
       "      <td>4.090</td>\n",
       "      <td>1</td>\n",
       "      <td>296</td>\n",
       "      <td>15.3</td>\n",
       "      <td>396.9</td>\n",
       "      <td>4.98</td>\n",
       "      <td>24.000</td>\n",
       "      <td>33.457249</td>\n",
       "    </tr>\n",
       "    <tr>\n",
       "      <th>332</th>\n",
       "      <td>0.04294</td>\n",
       "      <td>28</td>\n",
       "      <td>15.04</td>\n",
       "      <td>0</td>\n",
       "      <td>0.464</td>\n",
       "      <td>6.249</td>\n",
       "      <td>77.3</td>\n",
       "      <td>3.615</td>\n",
       "      <td>4</td>\n",
       "      <td>270</td>\n",
       "      <td>18.2</td>\n",
       "      <td>396.9</td>\n",
       "      <td>10.59</td>\n",
       "      <td>20.298</td>\n",
       "      <td>60.344828</td>\n",
       "    </tr>\n",
       "    <tr>\n",
       "      <th>364</th>\n",
       "      <td>0.04294</td>\n",
       "      <td>28</td>\n",
       "      <td>15.04</td>\n",
       "      <td>0</td>\n",
       "      <td>0.464</td>\n",
       "      <td>6.249</td>\n",
       "      <td>77.3</td>\n",
       "      <td>3.615</td>\n",
       "      <td>4</td>\n",
       "      <td>270</td>\n",
       "      <td>18.2</td>\n",
       "      <td>396.9</td>\n",
       "      <td>10.59</td>\n",
       "      <td>20.330</td>\n",
       "      <td>60.344828</td>\n",
       "    </tr>\n",
       "  </tbody>\n",
       "</table>\n",
       "</div>"
      ],
      "text/plain": [
       "       CRIM   ZN   INDUS  CHAS    NOX     RM   AGE    DIS  RAD  TAX   \\\n",
       "257  0.04294  28   15.04     0  0.464  6.249  77.3  3.615    4   270   \n",
       "26   0.00632  18    2.31     0  0.538  6.575  65.2  4.090    1   296   \n",
       "37   0.00632  18    2.31     0  0.538    NaN  65.2  4.090    1   296   \n",
       "332  0.04294  28   15.04     0  0.464  6.249  77.3  3.615    4   270   \n",
       "364  0.04294  28   15.04     0  0.464  6.249  77.3  3.615    4   270   \n",
       "\n",
       "      PTRATIO      B  LSTAT     MEDV      TAXRM  \n",
       "257      18.2  396.9   10.59  20.223  60.344828  \n",
       "26       15.3  396.9    4.98  24.000  33.457249  \n",
       "37       15.3  396.9    4.98  24.000  33.457249  \n",
       "332      18.2  396.9   10.59  20.298  60.344828  \n",
       "364      18.2  396.9   10.59  20.330  60.344828  "
      ]
     },
     "execution_count": 24,
     "metadata": {},
     "output_type": "execute_result"
    }
   ],
   "source": [
    "housing.head()"
   ]
  },
  {
   "cell_type": "code",
   "execution_count": 25,
   "id": "5270db97-7023-4ebe-a90c-ab9e4fd83570",
   "metadata": {},
   "outputs": [
    {
     "data": {
      "text/plain": [
       "MEDV        1.000000\n",
       "DIS         0.991983\n",
       "TAX         0.991983\n",
       "NOX         0.991983\n",
       " RM         0.991667\n",
       "AGE        -0.991983\n",
       "RAD        -0.991983\n",
       "ZN         -0.991983\n",
       "LSTAT      -0.991983\n",
       "TAXRM      -0.991983\n",
       "CRIM       -0.991983\n",
       " INDUS     -0.991983\n",
       " PTRATIO   -0.991983\n",
       "CHAS             NaN\n",
       "B                NaN\n",
       "Name: MEDV, dtype: float64"
      ]
     },
     "execution_count": 25,
     "metadata": {},
     "output_type": "execute_result"
    }
   ],
   "source": [
    "corr_matrix = housing.corr()\n",
    "corr_matrix['MEDV'] .sort_values(ascending=False)"
   ]
  },
  {
   "cell_type": "code",
   "execution_count": 26,
   "id": "be2357fe-002b-486d-8db8-3007d8797232",
   "metadata": {},
   "outputs": [
    {
     "data": {
      "text/plain": [
       "<Axes: xlabel='TAXRM', ylabel='MEDV'>"
      ]
     },
     "execution_count": 26,
     "metadata": {},
     "output_type": "execute_result"
    },
    {
     "data": {
      "image/png": "[encoded data removed]",
      "text/plain": [
       "<Figure size 640x480 with 1 Axes>"
      ]
     },
     "metadata": {},
     "output_type": "display_data"
    }
   ],
   "source": [
    "housing.plot(kind=\"scatter\",x=\"TAXRM\", y=\"MEDV\", alpha=0.8)"
   ]
  },
  {
   "cell_type": "markdown",
   "id": "f5ff23f0-8622-40e0-ac93-07a8eae5c40f",
   "metadata": {},
   "source": [
    "## Attribute combinations"
   ]
  },
  {
   "cell_type": "code",
   "execution_count": 27,
   "id": "a30e7465-7d5e-47b7-9525-3758101fe733",
   "metadata": {},
   "outputs": [
    {
     "data": {
      "text/plain": [
       "257    0.0\n",
       "26     0.0\n",
       "37     0.0\n",
       "332    0.0\n",
       "364    0.0\n",
       "      ... \n",
       "291    0.0\n",
       "116    0.0\n",
       "72     0.0\n",
       "524    0.0\n",
       "534    0.0\n",
       "Name: TAXRM, Length: 472, dtype: float64"
      ]
     },
     "execution_count": 27,
     "metadata": {},
     "output_type": "execute_result"
    }
   ],
   "source": [
    "housing[\"TAXRM\"] = housing['CHAS'] / housing['MEDV']\n",
    "housing[\"TAXRM\"]\n"
   ]
  },
  {
   "cell_type": "code",
   "execution_count": 28,
   "id": "df05566a-8742-4d7b-a917-dba709709b00",
   "metadata": {},
   "outputs": [
    {
     "data": {
      "text/html": [
       "<div>\n",
       "<style scoped>\n",
       "    .dataframe tbody tr th:only-of-type {\n",
       "        vertical-align: middle;\n",
       "    }\n",
       "\n",
       "    .dataframe tbody tr th {\n",
       "        vertical-align: top;\n",
       "    }\n",
       "\n",
       "    .dataframe thead th {\n",
       "        text-align: right;\n",
       "    }\n",
       "</style>\n",
       "<table border=\"1\" class=\"dataframe\">\n",
       "  <thead>\n",
       "    <tr style=\"text-align: right;\">\n",
       "      <th></th>\n",
       "      <th>CRIM</th>\n",
       "      <th>ZN</th>\n",
       "      <th>INDUS</th>\n",
       "      <th>CHAS</th>\n",
       "      <th>NOX</th>\n",
       "      <th>RM</th>\n",
       "      <th>AGE</th>\n",
       "      <th>DIS</th>\n",
       "      <th>RAD</th>\n",
       "      <th>TAX</th>\n",
       "      <th>PTRATIO</th>\n",
       "      <th>B</th>\n",
       "      <th>LSTAT</th>\n",
       "      <th>MEDV</th>\n",
       "      <th>TAXRM</th>\n",
       "    </tr>\n",
       "  </thead>\n",
       "  <tbody>\n",
       "    <tr>\n",
       "      <th>257</th>\n",
       "      <td>0.04294</td>\n",
       "      <td>28</td>\n",
       "      <td>15.04</td>\n",
       "      <td>0</td>\n",
       "      <td>0.464</td>\n",
       "      <td>6.249</td>\n",
       "      <td>77.3</td>\n",
       "      <td>3.615</td>\n",
       "      <td>4</td>\n",
       "      <td>270</td>\n",
       "      <td>18.2</td>\n",
       "      <td>396.9</td>\n",
       "      <td>10.59</td>\n",
       "      <td>20.223</td>\n",
       "      <td>0.0</td>\n",
       "    </tr>\n",
       "    <tr>\n",
       "      <th>26</th>\n",
       "      <td>0.00632</td>\n",
       "      <td>18</td>\n",
       "      <td>2.31</td>\n",
       "      <td>0</td>\n",
       "      <td>0.538</td>\n",
       "      <td>6.575</td>\n",
       "      <td>65.2</td>\n",
       "      <td>4.090</td>\n",
       "      <td>1</td>\n",
       "      <td>296</td>\n",
       "      <td>15.3</td>\n",
       "      <td>396.9</td>\n",
       "      <td>4.98</td>\n",
       "      <td>24.000</td>\n",
       "      <td>0.0</td>\n",
       "    </tr>\n",
       "    <tr>\n",
       "      <th>37</th>\n",
       "      <td>0.00632</td>\n",
       "      <td>18</td>\n",
       "      <td>2.31</td>\n",
       "      <td>0</td>\n",
       "      <td>0.538</td>\n",
       "      <td>NaN</td>\n",
       "      <td>65.2</td>\n",
       "      <td>4.090</td>\n",
       "      <td>1</td>\n",
       "      <td>296</td>\n",
       "      <td>15.3</td>\n",
       "      <td>396.9</td>\n",
       "      <td>4.98</td>\n",
       "      <td>24.000</td>\n",
       "      <td>0.0</td>\n",
       "    </tr>\n",
       "    <tr>\n",
       "      <th>332</th>\n",
       "      <td>0.04294</td>\n",
       "      <td>28</td>\n",
       "      <td>15.04</td>\n",
       "      <td>0</td>\n",
       "      <td>0.464</td>\n",
       "      <td>6.249</td>\n",
       "      <td>77.3</td>\n",
       "      <td>3.615</td>\n",
       "      <td>4</td>\n",
       "      <td>270</td>\n",
       "      <td>18.2</td>\n",
       "      <td>396.9</td>\n",
       "      <td>10.59</td>\n",
       "      <td>20.298</td>\n",
       "      <td>0.0</td>\n",
       "    </tr>\n",
       "    <tr>\n",
       "      <th>364</th>\n",
       "      <td>0.04294</td>\n",
       "      <td>28</td>\n",
       "      <td>15.04</td>\n",
       "      <td>0</td>\n",
       "      <td>0.464</td>\n",
       "      <td>6.249</td>\n",
       "      <td>77.3</td>\n",
       "      <td>3.615</td>\n",
       "      <td>4</td>\n",
       "      <td>270</td>\n",
       "      <td>18.2</td>\n",
       "      <td>396.9</td>\n",
       "      <td>10.59</td>\n",
       "      <td>20.330</td>\n",
       "      <td>0.0</td>\n",
       "    </tr>\n",
       "  </tbody>\n",
       "</table>\n",
       "</div>"
      ],
      "text/plain": [
       "       CRIM   ZN   INDUS  CHAS    NOX     RM   AGE    DIS  RAD  TAX   \\\n",
       "257  0.04294  28   15.04     0  0.464  6.249  77.3  3.615    4   270   \n",
       "26   0.00632  18    2.31     0  0.538  6.575  65.2  4.090    1   296   \n",
       "37   0.00632  18    2.31     0  0.538    NaN  65.2  4.090    1   296   \n",
       "332  0.04294  28   15.04     0  0.464  6.249  77.3  3.615    4   270   \n",
       "364  0.04294  28   15.04     0  0.464  6.249  77.3  3.615    4   270   \n",
       "\n",
       "      PTRATIO      B  LSTAT     MEDV  TAXRM  \n",
       "257      18.2  396.9   10.59  20.223    0.0  \n",
       "26       15.3  396.9    4.98  24.000    0.0  \n",
       "37       15.3  396.9    4.98  24.000    0.0  \n",
       "332      18.2  396.9   10.59  20.298    0.0  \n",
       "364      18.2  396.9   10.59  20.330    0.0  "
      ]
     },
     "execution_count": 28,
     "metadata": {},
     "output_type": "execute_result"
    }
   ],
   "source": [
    "housing.head()"
   ]
  },
  {
   "cell_type": "code",
   "execution_count": 29,
   "id": "0ba4d30a-51ab-4cba-b221-a839c6b66a6a",
   "metadata": {},
   "outputs": [
    {
     "data": {
      "text/plain": [
       "MEDV        1.000000\n",
       "DIS         0.991983\n",
       "TAX         0.991983\n",
       "NOX         0.991983\n",
       " RM         0.991667\n",
       "AGE        -0.991983\n",
       "RAD        -0.991983\n",
       "ZN         -0.991983\n",
       "LSTAT      -0.991983\n",
       "CRIM       -0.991983\n",
       " INDUS     -0.991983\n",
       " PTRATIO   -0.991983\n",
       "CHAS             NaN\n",
       "B                NaN\n",
       "TAXRM            NaN\n",
       "Name: MEDV, dtype: float64"
      ]
     },
     "execution_count": 29,
     "metadata": {},
     "output_type": "execute_result"
    }
   ],
   "source": [
    "corr_matrix = housing.corr()\n",
    "corr_matrix['MEDV'] .sort_values(ascending=False)"
   ]
  },
  {
   "cell_type": "code",
   "execution_count": 30,
   "id": "292dc6d3-f250-45d2-8d24-db32d94fd1b0",
   "metadata": {},
   "outputs": [
    {
     "data": {
      "text/plain": [
       "<Axes: xlabel='TAXRM', ylabel='MEDV'>"
      ]
     },
     "execution_count": 30,
     "metadata": {},
     "output_type": "execute_result"
    },
    {
     "data": {
      "image/png": "[encoded data removed]",
      "text/plain": [
       "<Figure size 640x480 with 1 Axes>"
      ]
     },
     "metadata": {},
     "output_type": "display_data"
    }
   ],
   "source": [
    "housing.plot(kind=\"scatter\", x=\"TAXRM\",y=\"MEDV\", alpha=0.8)"
   ]
  },
  {
   "cell_type": "code",
   "execution_count": 31,
   "id": "6c5d085b-7bb8-4569-a5ce-9a082add7f93",
   "metadata": {},
   "outputs": [],
   "source": [
    "housing= strat_train_set.drop(\"MEDV\",axis=1)\n",
    "housing_labels = strat_train_set[\"MEDV\"].copy()"
   ]
  },
  {
   "cell_type": "markdown",
   "id": "3ec689ce-94e3-475a-bfa5-7cbc8f96ad72",
   "metadata": {},
   "source": [
    "## MISSING ATTRIBUTES"
   ]
  },
  {
   "cell_type": "code",
   "execution_count": null,
   "id": "032c4771-812c-4d55-9b15-a54ae83730ec",
   "metadata": {},
   "outputs": [],
   "source": []
  },
  {
   "cell_type": "code",
   "execution_count": 32,
   "id": "8aa99209-fb3c-4638-9ccb-9c1db1c4ea46",
   "metadata": {},
   "outputs": [],
   "source": [
    "# TO TAKE CARE OF MISSING ATTRIBUTE, YOU HAVE THREE OPTION:\n",
    "#  1. GET RID OF THE MISSING DATA POINT\n",
    "#  2.GET RID OF THE WHOLE ATTRIBUTE\n",
    "#  3. SET THE VALUE TO SOME VALUE(0,MEAN R MEDIAN)"
   ]
  },
  {
   "cell_type": "code",
   "execution_count": 33,
   "id": "97da4320-4b6c-4337-b5ba-a798ae3d2045",
   "metadata": {},
   "outputs": [
    {
     "name": "stdout",
     "output_type": "stream",
     "text": [
      "Index(['CRIM ', 'ZN', ' INDUS', 'CHAS', 'NOX', ' RM', 'AGE', 'DIS', 'RAD',\n",
      "       'TAX ', ' PTRATIO', 'B', 'LSTAT '],\n",
      "      dtype='object')\n"
     ]
    }
   ],
   "source": [
    "print(housing.columns)\n",
    "\n"
   ]
  },
  {
   "cell_type": "code",
   "execution_count": 34,
   "id": "b69223d9-d34c-4912-8dbb-180a17326050",
   "metadata": {},
   "outputs": [
    {
     "data": {
      "text/plain": [
       "(472, 13)"
      ]
     },
     "execution_count": 34,
     "metadata": {},
     "output_type": "execute_result"
    }
   ],
   "source": [
    "a = housing.dropna(subset=[\"NOX\"])\n",
    "a.shape\n"
   ]
  },
  {
   "cell_type": "code",
   "execution_count": 35,
   "id": "577e3cfc-b596-4bb6-a8d0-35478eebe46e",
   "metadata": {},
   "outputs": [
    {
     "data": {
      "text/plain": [
       "0.0"
      ]
     },
     "execution_count": 35,
     "metadata": {},
     "output_type": "execute_result"
    }
   ],
   "source": [
    "median = housing [\"CHAS\"].median()\n",
    "median"
   ]
  },
  {
   "cell_type": "code",
   "execution_count": 36,
   "id": "3b16e2c1-9e25-4f69-8666-d974623150d8",
   "metadata": {},
   "outputs": [
    {
     "data": {
      "text/plain": [
       "257    0.464\n",
       "26     0.538\n",
       "37     0.538\n",
       "332    0.464\n",
       "364    0.464\n",
       "       ...  \n",
       "291    0.464\n",
       "116    0.464\n",
       "72     0.538\n",
       "524    0.464\n",
       "534    0.464\n",
       "Name: NOX, Length: 472, dtype: float64"
      ]
     },
     "execution_count": 36,
     "metadata": {},
     "output_type": "execute_result"
    }
   ],
   "source": [
    "housing[\"NOX\"].fillna(median)"
   ]
  },
  {
   "cell_type": "code",
   "execution_count": 37,
   "id": "8a06c781-1445-4e50-8bf7-9ff848205bf4",
   "metadata": {},
   "outputs": [
    {
     "data": {
      "text/plain": [
       "(472, 13)"
      ]
     },
     "execution_count": 37,
     "metadata": {},
     "output_type": "execute_result"
    }
   ],
   "source": [
    "housing.shape"
   ]
  },
  {
   "cell_type": "code",
   "execution_count": 38,
   "id": "3c606ccc-f338-4553-b273-eeb5cf5515f8",
   "metadata": {},
   "outputs": [
    {
     "data": {
      "text/html": [
       "<div>\n",
       "<style scoped>\n",
       "    .dataframe tbody tr th:only-of-type {\n",
       "        vertical-align: middle;\n",
       "    }\n",
       "\n",
       "    .dataframe tbody tr th {\n",
       "        vertical-align: top;\n",
       "    }\n",
       "\n",
       "    .dataframe thead th {\n",
       "        text-align: right;\n",
       "    }\n",
       "</style>\n",
       "<table border=\"1\" class=\"dataframe\">\n",
       "  <thead>\n",
       "    <tr style=\"text-align: right;\">\n",
       "      <th></th>\n",
       "      <th>CRIM</th>\n",
       "      <th>ZN</th>\n",
       "      <th>INDUS</th>\n",
       "      <th>CHAS</th>\n",
       "      <th>NOX</th>\n",
       "      <th>RM</th>\n",
       "      <th>AGE</th>\n",
       "      <th>DIS</th>\n",
       "      <th>RAD</th>\n",
       "      <th>TAX</th>\n",
       "      <th>PTRATIO</th>\n",
       "      <th>B</th>\n",
       "      <th>LSTAT</th>\n",
       "    </tr>\n",
       "  </thead>\n",
       "  <tbody>\n",
       "    <tr>\n",
       "      <th>count</th>\n",
       "      <td>472.000000</td>\n",
       "      <td>472.000000</td>\n",
       "      <td>472.000000</td>\n",
       "      <td>472.0</td>\n",
       "      <td>472.000000</td>\n",
       "      <td>465.000000</td>\n",
       "      <td>472.000000</td>\n",
       "      <td>472.00000</td>\n",
       "      <td>472.000000</td>\n",
       "      <td>472.000000</td>\n",
       "      <td>472.000000</td>\n",
       "      <td>472.0</td>\n",
       "      <td>472.000000</td>\n",
       "    </tr>\n",
       "    <tr>\n",
       "      <th>mean</th>\n",
       "      <td>0.037199</td>\n",
       "      <td>26.432203</td>\n",
       "      <td>13.044195</td>\n",
       "      <td>0.0</td>\n",
       "      <td>0.475602</td>\n",
       "      <td>6.298075</td>\n",
       "      <td>75.402966</td>\n",
       "      <td>3.68947</td>\n",
       "      <td>3.529661</td>\n",
       "      <td>274.076271</td>\n",
       "      <td>17.745339</td>\n",
       "      <td>396.9</td>\n",
       "      <td>9.710466</td>\n",
       "    </tr>\n",
       "    <tr>\n",
       "      <th>std</th>\n",
       "      <td>0.013329</td>\n",
       "      <td>3.639787</td>\n",
       "      <td>4.633449</td>\n",
       "      <td>0.0</td>\n",
       "      <td>0.026934</td>\n",
       "      <td>0.116702</td>\n",
       "      <td>4.404142</td>\n",
       "      <td>0.17289</td>\n",
       "      <td>1.091936</td>\n",
       "      <td>9.463446</td>\n",
       "      <td>1.055538</td>\n",
       "      <td>0.0</td>\n",
       "      <td>2.041920</td>\n",
       "    </tr>\n",
       "    <tr>\n",
       "      <th>min</th>\n",
       "      <td>0.006320</td>\n",
       "      <td>18.000000</td>\n",
       "      <td>2.310000</td>\n",
       "      <td>0.0</td>\n",
       "      <td>0.464000</td>\n",
       "      <td>6.249000</td>\n",
       "      <td>65.200000</td>\n",
       "      <td>3.61500</td>\n",
       "      <td>1.000000</td>\n",
       "      <td>270.000000</td>\n",
       "      <td>15.300000</td>\n",
       "      <td>396.9</td>\n",
       "      <td>4.980000</td>\n",
       "    </tr>\n",
       "    <tr>\n",
       "      <th>25%</th>\n",
       "      <td>0.042940</td>\n",
       "      <td>28.000000</td>\n",
       "      <td>15.040000</td>\n",
       "      <td>0.0</td>\n",
       "      <td>0.464000</td>\n",
       "      <td>6.249000</td>\n",
       "      <td>77.300000</td>\n",
       "      <td>3.61500</td>\n",
       "      <td>4.000000</td>\n",
       "      <td>270.000000</td>\n",
       "      <td>18.200000</td>\n",
       "      <td>396.9</td>\n",
       "      <td>10.590000</td>\n",
       "    </tr>\n",
       "    <tr>\n",
       "      <th>50%</th>\n",
       "      <td>0.042940</td>\n",
       "      <td>28.000000</td>\n",
       "      <td>15.040000</td>\n",
       "      <td>0.0</td>\n",
       "      <td>0.464000</td>\n",
       "      <td>6.249000</td>\n",
       "      <td>77.300000</td>\n",
       "      <td>3.61500</td>\n",
       "      <td>4.000000</td>\n",
       "      <td>270.000000</td>\n",
       "      <td>18.200000</td>\n",
       "      <td>396.9</td>\n",
       "      <td>10.590000</td>\n",
       "    </tr>\n",
       "    <tr>\n",
       "      <th>75%</th>\n",
       "      <td>0.042940</td>\n",
       "      <td>28.000000</td>\n",
       "      <td>15.040000</td>\n",
       "      <td>0.0</td>\n",
       "      <td>0.464000</td>\n",
       "      <td>6.249000</td>\n",
       "      <td>77.300000</td>\n",
       "      <td>3.61500</td>\n",
       "      <td>4.000000</td>\n",
       "      <td>270.000000</td>\n",
       "      <td>18.200000</td>\n",
       "      <td>396.9</td>\n",
       "      <td>10.590000</td>\n",
       "    </tr>\n",
       "    <tr>\n",
       "      <th>max</th>\n",
       "      <td>0.042940</td>\n",
       "      <td>28.000000</td>\n",
       "      <td>15.040000</td>\n",
       "      <td>0.0</td>\n",
       "      <td>0.538000</td>\n",
       "      <td>6.575000</td>\n",
       "      <td>77.300000</td>\n",
       "      <td>4.09000</td>\n",
       "      <td>4.000000</td>\n",
       "      <td>296.000000</td>\n",
       "      <td>18.200000</td>\n",
       "      <td>396.9</td>\n",
       "      <td>10.590000</td>\n",
       "    </tr>\n",
       "  </tbody>\n",
       "</table>\n",
       "</div>"
      ],
      "text/plain": [
       "            CRIM           ZN       INDUS   CHAS         NOX          RM  \\\n",
       "count  472.000000  472.000000  472.000000  472.0  472.000000  465.000000   \n",
       "mean     0.037199   26.432203   13.044195    0.0    0.475602    6.298075   \n",
       "std      0.013329    3.639787    4.633449    0.0    0.026934    0.116702   \n",
       "min      0.006320   18.000000    2.310000    0.0    0.464000    6.249000   \n",
       "25%      0.042940   28.000000   15.040000    0.0    0.464000    6.249000   \n",
       "50%      0.042940   28.000000   15.040000    0.0    0.464000    6.249000   \n",
       "75%      0.042940   28.000000   15.040000    0.0    0.464000    6.249000   \n",
       "max      0.042940   28.000000   15.040000    0.0    0.538000    6.575000   \n",
       "\n",
       "              AGE        DIS         RAD        TAX      PTRATIO      B  \\\n",
       "count  472.000000  472.00000  472.000000  472.000000  472.000000  472.0   \n",
       "mean    75.402966    3.68947    3.529661  274.076271   17.745339  396.9   \n",
       "std      4.404142    0.17289    1.091936    9.463446    1.055538    0.0   \n",
       "min     65.200000    3.61500    1.000000  270.000000   15.300000  396.9   \n",
       "25%     77.300000    3.61500    4.000000  270.000000   18.200000  396.9   \n",
       "50%     77.300000    3.61500    4.000000  270.000000   18.200000  396.9   \n",
       "75%     77.300000    3.61500    4.000000  270.000000   18.200000  396.9   \n",
       "max     77.300000    4.09000    4.000000  296.000000   18.200000  396.9   \n",
       "\n",
       "           LSTAT   \n",
       "count  472.000000  \n",
       "mean     9.710466  \n",
       "std      2.041920  \n",
       "min      4.980000  \n",
       "25%     10.590000  \n",
       "50%     10.590000  \n",
       "75%     10.590000  \n",
       "max     10.590000  "
      ]
     },
     "execution_count": 38,
     "metadata": {},
     "output_type": "execute_result"
    }
   ],
   "source": [
    "# before we started filling missing attributes\n",
    "housing.describe()"
   ]
  },
  {
   "cell_type": "code",
   "execution_count": 39,
   "id": "f32567bb-92b8-4e4d-8c0d-d97bbe48161c",
   "metadata": {},
   "outputs": [
    {
     "data": {
      "text/html": [
       "<style>#sk-container-id-1 {color: black;}#sk-container-id-1 pre{padding: 0;}#sk-container-id-1 div.sk-toggleable {background-color: white;}#sk-container-id-1 label.sk-toggleable__label {cursor: pointer;display: block;width: 100%;margin-bottom: 0;padding: 0.3em;box-sizing: border-box;text-align: center;}#sk-container-id-1 label.sk-toggleable__label-arrow:before {content: \"▸\";float: left;margin-right: 0.25em;color: #696969;}#sk-container-id-1 label.sk-toggleable__label-arrow:hover:before {color: black;}#sk-container-id-1 div.sk-estimator:hover label.sk-toggleable__label-arrow:before {color: black;}#sk-container-id-1 div.sk-toggleable__content {max-height: 0;max-width: 0;overflow: hidden;text-align: left;background-color: #f0f8ff;}#sk-container-id-1 div.sk-toggleable__content pre {margin: 0.2em;color: black;border-radius: 0.25em;background-color: #f0f8ff;}#sk-container-id-1 input.sk-toggleable__control:checked~div.sk-toggleable__content {max-height: 200px;max-width: 100%;overflow: auto;}#sk-container-id-1 input.sk-toggleable__control:checked~label.sk-toggleable__label-arrow:before {content: \"▾\";}#sk-container-id-1 div.sk-estimator input.sk-toggleable__control:checked~label.sk-toggleable__label {background-color: #d4ebff;}#sk-container-id-1 div.sk-label input.sk-toggleable__control:checked~label.sk-toggleable__label {background-color: #d4ebff;}#sk-container-id-1 input.sk-hidden--visually {border: 0;clip: rect(1px 1px 1px 1px);clip: rect(1px, 1px, 1px, 1px);height: 1px;margin: -1px;overflow: hidden;padding: 0;position: absolute;width: 1px;}#sk-container-id-1 div.sk-estimator {font-family: monospace;background-color: #f0f8ff;border: 1px dotted black;border-radius: 0.25em;box-sizing: border-box;margin-bottom: 0.5em;}#sk-container-id-1 div.sk-estimator:hover {background-color: #d4ebff;}#sk-container-id-1 div.sk-parallel-item::after {content: \"\";width: 100%;border-bottom: 1px solid gray;flex-grow: 1;}#sk-container-id-1 div.sk-label:hover label.sk-toggleable__label {background-color: #d4ebff;}#sk-container-id-1 div.sk-serial::before {content: \"\";position: absolute;border-left: 1px solid gray;box-sizing: border-box;top: 0;bottom: 0;left: 50%;z-index: 0;}#sk-container-id-1 div.sk-serial {display: flex;flex-direction: column;align-items: center;background-color: white;padding-right: 0.2em;padding-left: 0.2em;position: relative;}#sk-container-id-1 div.sk-item {position: relative;z-index: 1;}#sk-container-id-1 div.sk-parallel {display: flex;align-items: stretch;justify-content: center;background-color: white;position: relative;}#sk-container-id-1 div.sk-item::before, #sk-container-id-1 div.sk-parallel-item::before {content: \"\";position: absolute;border-left: 1px solid gray;box-sizing: border-box;top: 0;bottom: 0;left: 50%;z-index: -1;}#sk-container-id-1 div.sk-parallel-item {display: flex;flex-direction: column;z-index: 1;position: relative;background-color: white;}#sk-container-id-1 div.sk-parallel-item:first-child::after {align-self: flex-end;width: 50%;}#sk-container-id-1 div.sk-parallel-item:last-child::after {align-self: flex-start;width: 50%;}#sk-container-id-1 div.sk-parallel-item:only-child::after {width: 0;}#sk-container-id-1 div.sk-dashed-wrapped {border: 1px dashed gray;margin: 0 0.4em 0.5em 0.4em;box-sizing: border-box;padding-bottom: 0.4em;background-color: white;}#sk-container-id-1 div.sk-label label {font-family: monospace;font-weight: bold;display: inline-block;line-height: 1.2em;}#sk-container-id-1 div.sk-label-container {text-align: center;}#sk-container-id-1 div.sk-container {/* jupyter's `normalize.less` sets `[hidden] { display: none; }` but bootstrap.min.css set `[hidden] { display: none !important; }` so we also need the `!important` here to be able to override the default hidden behavior on the sphinx rendered scikit-learn.org. See: https://github.com/scikit-learn/scikit-learn/issues/21755 */display: inline-block !important;position: relative;}#sk-container-id-1 div.sk-text-repr-fallback {display: none;}</style><div id=\"sk-container-id-1\" class=\"sk-top-container\"><div class=\"sk-text-repr-fallback\"><pre>SimpleImputer(strategy=&#x27;median&#x27;)</pre><b>In a Jupyter environment, please rerun this cell to show the HTML representation or trust the notebook. <br />On GitHub, the HTML representation is unable to render, please try loading this page with nbviewer.org.</b></div><div class=\"sk-container\" hidden><div class=\"sk-item\"><div class=\"sk-estimator sk-toggleable\"><input class=\"sk-toggleable__control sk-hidden--visually\" id=\"sk-estimator-id-1\" type=\"checkbox\" checked><label for=\"sk-estimator-id-1\" class=\"sk-toggleable__label sk-toggleable__label-arrow\">SimpleImputer</label><div class=\"sk-toggleable__content\"><pre>SimpleImputer(strategy=&#x27;median&#x27;)</pre></div></div></div></div></div>"
      ],
      "text/plain": [
       "SimpleImputer(strategy='median')"
      ]
     },
     "execution_count": 39,
     "metadata": {},
     "output_type": "execute_result"
    }
   ],
   "source": [
    "\n",
    "from sklearn.impute import SimpleImputer\n",
    "\n",
    "\n",
    "# Assuming 'housing' is your DataFrame with missing values\n",
    "\n",
    "# Creating the SimpleImputer object with the desired strategy\n",
    "imputer = SimpleImputer(strategy=\"median\")\n",
    "\n",
    "# Fit the imputer to your data (in this case, the 'housing' DataFrame)\n",
    "imputer.fit(housing)\n"
   ]
  },
  {
   "cell_type": "code",
   "execution_count": 40,
   "id": "e8dab827-66b2-45d3-a263-b62e9b310f86",
   "metadata": {},
   "outputs": [
    {
     "data": {
      "text/plain": [
       "array([4.294e-02, 2.800e+01, 1.504e+01, 0.000e+00, 4.640e-01, 6.249e+00,\n",
       "       7.730e+01, 3.615e+00, 4.000e+00, 2.700e+02, 1.820e+01, 3.969e+02,\n",
       "       1.059e+01])"
      ]
     },
     "execution_count": 40,
     "metadata": {},
     "output_type": "execute_result"
    }
   ],
   "source": [
    "imputer.statistics_"
   ]
  },
  {
   "cell_type": "code",
   "execution_count": 41,
   "id": "53e40b75-59a8-47c0-94c7-f1fc5d663344",
   "metadata": {},
   "outputs": [],
   "source": [
    "X = imputer.transform(housing)"
   ]
  },
  {
   "cell_type": "code",
   "execution_count": 42,
   "id": "51100b4a-f515-4f0b-8a35-c253f589e110",
   "metadata": {},
   "outputs": [
    {
     "data": {
      "text/html": [
       "<div>\n",
       "<style scoped>\n",
       "    .dataframe tbody tr th:only-of-type {\n",
       "        vertical-align: middle;\n",
       "    }\n",
       "\n",
       "    .dataframe tbody tr th {\n",
       "        vertical-align: top;\n",
       "    }\n",
       "\n",
       "    .dataframe thead th {\n",
       "        text-align: right;\n",
       "    }\n",
       "</style>\n",
       "<table border=\"1\" class=\"dataframe\">\n",
       "  <thead>\n",
       "    <tr style=\"text-align: right;\">\n",
       "      <th></th>\n",
       "      <th>CRIM</th>\n",
       "      <th>ZN</th>\n",
       "      <th>INDUS</th>\n",
       "      <th>CHAS</th>\n",
       "      <th>NOX</th>\n",
       "      <th>RM</th>\n",
       "      <th>AGE</th>\n",
       "      <th>DIS</th>\n",
       "      <th>RAD</th>\n",
       "      <th>TAX</th>\n",
       "      <th>PTRATIO</th>\n",
       "      <th>B</th>\n",
       "      <th>LSTAT</th>\n",
       "    </tr>\n",
       "  </thead>\n",
       "  <tbody>\n",
       "    <tr>\n",
       "      <th>257</th>\n",
       "      <td>0.04294</td>\n",
       "      <td>28</td>\n",
       "      <td>15.04</td>\n",
       "      <td>0</td>\n",
       "      <td>0.464</td>\n",
       "      <td>6.249</td>\n",
       "      <td>77.3</td>\n",
       "      <td>3.615</td>\n",
       "      <td>4</td>\n",
       "      <td>270</td>\n",
       "      <td>18.2</td>\n",
       "      <td>396.9</td>\n",
       "      <td>10.59</td>\n",
       "    </tr>\n",
       "    <tr>\n",
       "      <th>26</th>\n",
       "      <td>0.00632</td>\n",
       "      <td>18</td>\n",
       "      <td>2.31</td>\n",
       "      <td>0</td>\n",
       "      <td>0.538</td>\n",
       "      <td>6.575</td>\n",
       "      <td>65.2</td>\n",
       "      <td>4.090</td>\n",
       "      <td>1</td>\n",
       "      <td>296</td>\n",
       "      <td>15.3</td>\n",
       "      <td>396.9</td>\n",
       "      <td>4.98</td>\n",
       "    </tr>\n",
       "    <tr>\n",
       "      <th>37</th>\n",
       "      <td>0.00632</td>\n",
       "      <td>18</td>\n",
       "      <td>2.31</td>\n",
       "      <td>0</td>\n",
       "      <td>0.538</td>\n",
       "      <td>NaN</td>\n",
       "      <td>65.2</td>\n",
       "      <td>4.090</td>\n",
       "      <td>1</td>\n",
       "      <td>296</td>\n",
       "      <td>15.3</td>\n",
       "      <td>396.9</td>\n",
       "      <td>4.98</td>\n",
       "    </tr>\n",
       "    <tr>\n",
       "      <th>332</th>\n",
       "      <td>0.04294</td>\n",
       "      <td>28</td>\n",
       "      <td>15.04</td>\n",
       "      <td>0</td>\n",
       "      <td>0.464</td>\n",
       "      <td>6.249</td>\n",
       "      <td>77.3</td>\n",
       "      <td>3.615</td>\n",
       "      <td>4</td>\n",
       "      <td>270</td>\n",
       "      <td>18.2</td>\n",
       "      <td>396.9</td>\n",
       "      <td>10.59</td>\n",
       "    </tr>\n",
       "    <tr>\n",
       "      <th>364</th>\n",
       "      <td>0.04294</td>\n",
       "      <td>28</td>\n",
       "      <td>15.04</td>\n",
       "      <td>0</td>\n",
       "      <td>0.464</td>\n",
       "      <td>6.249</td>\n",
       "      <td>77.3</td>\n",
       "      <td>3.615</td>\n",
       "      <td>4</td>\n",
       "      <td>270</td>\n",
       "      <td>18.2</td>\n",
       "      <td>396.9</td>\n",
       "      <td>10.59</td>\n",
       "    </tr>\n",
       "    <tr>\n",
       "      <th>...</th>\n",
       "      <td>...</td>\n",
       "      <td>...</td>\n",
       "      <td>...</td>\n",
       "      <td>...</td>\n",
       "      <td>...</td>\n",
       "      <td>...</td>\n",
       "      <td>...</td>\n",
       "      <td>...</td>\n",
       "      <td>...</td>\n",
       "      <td>...</td>\n",
       "      <td>...</td>\n",
       "      <td>...</td>\n",
       "      <td>...</td>\n",
       "    </tr>\n",
       "    <tr>\n",
       "      <th>291</th>\n",
       "      <td>0.04294</td>\n",
       "      <td>28</td>\n",
       "      <td>15.04</td>\n",
       "      <td>0</td>\n",
       "      <td>0.464</td>\n",
       "      <td>6.249</td>\n",
       "      <td>77.3</td>\n",
       "      <td>3.615</td>\n",
       "      <td>4</td>\n",
       "      <td>270</td>\n",
       "      <td>18.2</td>\n",
       "      <td>396.9</td>\n",
       "      <td>10.59</td>\n",
       "    </tr>\n",
       "    <tr>\n",
       "      <th>116</th>\n",
       "      <td>0.04294</td>\n",
       "      <td>28</td>\n",
       "      <td>15.04</td>\n",
       "      <td>0</td>\n",
       "      <td>0.464</td>\n",
       "      <td>6.249</td>\n",
       "      <td>77.3</td>\n",
       "      <td>3.615</td>\n",
       "      <td>4</td>\n",
       "      <td>270</td>\n",
       "      <td>18.2</td>\n",
       "      <td>396.9</td>\n",
       "      <td>10.59</td>\n",
       "    </tr>\n",
       "    <tr>\n",
       "      <th>72</th>\n",
       "      <td>0.00632</td>\n",
       "      <td>18</td>\n",
       "      <td>2.31</td>\n",
       "      <td>0</td>\n",
       "      <td>0.538</td>\n",
       "      <td>6.575</td>\n",
       "      <td>65.2</td>\n",
       "      <td>4.090</td>\n",
       "      <td>1</td>\n",
       "      <td>296</td>\n",
       "      <td>15.3</td>\n",
       "      <td>396.9</td>\n",
       "      <td>4.98</td>\n",
       "    </tr>\n",
       "    <tr>\n",
       "      <th>524</th>\n",
       "      <td>0.04294</td>\n",
       "      <td>28</td>\n",
       "      <td>15.04</td>\n",
       "      <td>0</td>\n",
       "      <td>0.464</td>\n",
       "      <td>6.249</td>\n",
       "      <td>77.3</td>\n",
       "      <td>3.615</td>\n",
       "      <td>4</td>\n",
       "      <td>270</td>\n",
       "      <td>18.2</td>\n",
       "      <td>396.9</td>\n",
       "      <td>10.59</td>\n",
       "    </tr>\n",
       "    <tr>\n",
       "      <th>534</th>\n",
       "      <td>0.04294</td>\n",
       "      <td>28</td>\n",
       "      <td>15.04</td>\n",
       "      <td>0</td>\n",
       "      <td>0.464</td>\n",
       "      <td>6.249</td>\n",
       "      <td>77.3</td>\n",
       "      <td>3.615</td>\n",
       "      <td>4</td>\n",
       "      <td>270</td>\n",
       "      <td>18.2</td>\n",
       "      <td>396.9</td>\n",
       "      <td>10.59</td>\n",
       "    </tr>\n",
       "  </tbody>\n",
       "</table>\n",
       "<p>472 rows × 13 columns</p>\n",
       "</div>"
      ],
      "text/plain": [
       "       CRIM   ZN   INDUS  CHAS    NOX     RM   AGE    DIS  RAD  TAX   \\\n",
       "257  0.04294  28   15.04     0  0.464  6.249  77.3  3.615    4   270   \n",
       "26   0.00632  18    2.31     0  0.538  6.575  65.2  4.090    1   296   \n",
       "37   0.00632  18    2.31     0  0.538    NaN  65.2  4.090    1   296   \n",
       "332  0.04294  28   15.04     0  0.464  6.249  77.3  3.615    4   270   \n",
       "364  0.04294  28   15.04     0  0.464  6.249  77.3  3.615    4   270   \n",
       "..       ...  ..     ...   ...    ...    ...   ...    ...  ...   ...   \n",
       "291  0.04294  28   15.04     0  0.464  6.249  77.3  3.615    4   270   \n",
       "116  0.04294  28   15.04     0  0.464  6.249  77.3  3.615    4   270   \n",
       "72   0.00632  18    2.31     0  0.538  6.575  65.2  4.090    1   296   \n",
       "524  0.04294  28   15.04     0  0.464  6.249  77.3  3.615    4   270   \n",
       "534  0.04294  28   15.04     0  0.464  6.249  77.3  3.615    4   270   \n",
       "\n",
       "      PTRATIO      B  LSTAT   \n",
       "257      18.2  396.9   10.59  \n",
       "26       15.3  396.9    4.98  \n",
       "37       15.3  396.9    4.98  \n",
       "332      18.2  396.9   10.59  \n",
       "364      18.2  396.9   10.59  \n",
       "..        ...    ...     ...  \n",
       "291      18.2  396.9   10.59  \n",
       "116      18.2  396.9   10.59  \n",
       "72       15.3  396.9    4.98  \n",
       "524      18.2  396.9   10.59  \n",
       "534      18.2  396.9   10.59  \n",
       "\n",
       "[472 rows x 13 columns]"
      ]
     },
     "execution_count": 42,
     "metadata": {},
     "output_type": "execute_result"
    }
   ],
   "source": [
    "housing_tr = pd.DataFrame(X, columns=housing.columns)\n",
    "housing"
   ]
  },
  {
   "cell_type": "code",
   "execution_count": 43,
   "id": "9a05cf57-3dec-4c45-a2fa-feec33d7f0d6",
   "metadata": {},
   "outputs": [
    {
     "data": {
      "text/html": [
       "<div>\n",
       "<style scoped>\n",
       "    .dataframe tbody tr th:only-of-type {\n",
       "        vertical-align: middle;\n",
       "    }\n",
       "\n",
       "    .dataframe tbody tr th {\n",
       "        vertical-align: top;\n",
       "    }\n",
       "\n",
       "    .dataframe thead th {\n",
       "        text-align: right;\n",
       "    }\n",
       "</style>\n",
       "<table border=\"1\" class=\"dataframe\">\n",
       "  <thead>\n",
       "    <tr style=\"text-align: right;\">\n",
       "      <th></th>\n",
       "      <th>CRIM</th>\n",
       "      <th>ZN</th>\n",
       "      <th>INDUS</th>\n",
       "      <th>CHAS</th>\n",
       "      <th>NOX</th>\n",
       "      <th>RM</th>\n",
       "      <th>AGE</th>\n",
       "      <th>DIS</th>\n",
       "      <th>RAD</th>\n",
       "      <th>TAX</th>\n",
       "      <th>PTRATIO</th>\n",
       "      <th>B</th>\n",
       "      <th>LSTAT</th>\n",
       "    </tr>\n",
       "  </thead>\n",
       "  <tbody>\n",
       "    <tr>\n",
       "      <th>count</th>\n",
       "      <td>472.000000</td>\n",
       "      <td>472.000000</td>\n",
       "      <td>472.000000</td>\n",
       "      <td>472.0</td>\n",
       "      <td>472.000000</td>\n",
       "      <td>472.000000</td>\n",
       "      <td>472.000000</td>\n",
       "      <td>472.00000</td>\n",
       "      <td>472.000000</td>\n",
       "      <td>472.000000</td>\n",
       "      <td>472.000000</td>\n",
       "      <td>472.0</td>\n",
       "      <td>472.000000</td>\n",
       "    </tr>\n",
       "    <tr>\n",
       "      <th>mean</th>\n",
       "      <td>0.037199</td>\n",
       "      <td>26.432203</td>\n",
       "      <td>13.044195</td>\n",
       "      <td>0.0</td>\n",
       "      <td>0.475602</td>\n",
       "      <td>6.297347</td>\n",
       "      <td>75.402966</td>\n",
       "      <td>3.68947</td>\n",
       "      <td>3.529661</td>\n",
       "      <td>274.076271</td>\n",
       "      <td>17.745339</td>\n",
       "      <td>396.9</td>\n",
       "      <td>9.710466</td>\n",
       "    </tr>\n",
       "    <tr>\n",
       "      <th>std</th>\n",
       "      <td>0.013329</td>\n",
       "      <td>3.639787</td>\n",
       "      <td>4.633449</td>\n",
       "      <td>0.0</td>\n",
       "      <td>0.026934</td>\n",
       "      <td>0.115984</td>\n",
       "      <td>4.404142</td>\n",
       "      <td>0.17289</td>\n",
       "      <td>1.091936</td>\n",
       "      <td>9.463446</td>\n",
       "      <td>1.055538</td>\n",
       "      <td>0.0</td>\n",
       "      <td>2.041920</td>\n",
       "    </tr>\n",
       "    <tr>\n",
       "      <th>min</th>\n",
       "      <td>0.006320</td>\n",
       "      <td>18.000000</td>\n",
       "      <td>2.310000</td>\n",
       "      <td>0.0</td>\n",
       "      <td>0.464000</td>\n",
       "      <td>6.249000</td>\n",
       "      <td>65.200000</td>\n",
       "      <td>3.61500</td>\n",
       "      <td>1.000000</td>\n",
       "      <td>270.000000</td>\n",
       "      <td>15.300000</td>\n",
       "      <td>396.9</td>\n",
       "      <td>4.980000</td>\n",
       "    </tr>\n",
       "    <tr>\n",
       "      <th>25%</th>\n",
       "      <td>0.042940</td>\n",
       "      <td>28.000000</td>\n",
       "      <td>15.040000</td>\n",
       "      <td>0.0</td>\n",
       "      <td>0.464000</td>\n",
       "      <td>6.249000</td>\n",
       "      <td>77.300000</td>\n",
       "      <td>3.61500</td>\n",
       "      <td>4.000000</td>\n",
       "      <td>270.000000</td>\n",
       "      <td>18.200000</td>\n",
       "      <td>396.9</td>\n",
       "      <td>10.590000</td>\n",
       "    </tr>\n",
       "    <tr>\n",
       "      <th>50%</th>\n",
       "      <td>0.042940</td>\n",
       "      <td>28.000000</td>\n",
       "      <td>15.040000</td>\n",
       "      <td>0.0</td>\n",
       "      <td>0.464000</td>\n",
       "      <td>6.249000</td>\n",
       "      <td>77.300000</td>\n",
       "      <td>3.61500</td>\n",
       "      <td>4.000000</td>\n",
       "      <td>270.000000</td>\n",
       "      <td>18.200000</td>\n",
       "      <td>396.9</td>\n",
       "      <td>10.590000</td>\n",
       "    </tr>\n",
       "    <tr>\n",
       "      <th>75%</th>\n",
       "      <td>0.042940</td>\n",
       "      <td>28.000000</td>\n",
       "      <td>15.040000</td>\n",
       "      <td>0.0</td>\n",
       "      <td>0.464000</td>\n",
       "      <td>6.249000</td>\n",
       "      <td>77.300000</td>\n",
       "      <td>3.61500</td>\n",
       "      <td>4.000000</td>\n",
       "      <td>270.000000</td>\n",
       "      <td>18.200000</td>\n",
       "      <td>396.9</td>\n",
       "      <td>10.590000</td>\n",
       "    </tr>\n",
       "    <tr>\n",
       "      <th>max</th>\n",
       "      <td>0.042940</td>\n",
       "      <td>28.000000</td>\n",
       "      <td>15.040000</td>\n",
       "      <td>0.0</td>\n",
       "      <td>0.538000</td>\n",
       "      <td>6.575000</td>\n",
       "      <td>77.300000</td>\n",
       "      <td>4.09000</td>\n",
       "      <td>4.000000</td>\n",
       "      <td>296.000000</td>\n",
       "      <td>18.200000</td>\n",
       "      <td>396.9</td>\n",
       "      <td>10.590000</td>\n",
       "    </tr>\n",
       "  </tbody>\n",
       "</table>\n",
       "</div>"
      ],
      "text/plain": [
       "            CRIM           ZN       INDUS   CHAS         NOX          RM  \\\n",
       "count  472.000000  472.000000  472.000000  472.0  472.000000  472.000000   \n",
       "mean     0.037199   26.432203   13.044195    0.0    0.475602    6.297347   \n",
       "std      0.013329    3.639787    4.633449    0.0    0.026934    0.115984   \n",
       "min      0.006320   18.000000    2.310000    0.0    0.464000    6.249000   \n",
       "25%      0.042940   28.000000   15.040000    0.0    0.464000    6.249000   \n",
       "50%      0.042940   28.000000   15.040000    0.0    0.464000    6.249000   \n",
       "75%      0.042940   28.000000   15.040000    0.0    0.464000    6.249000   \n",
       "max      0.042940   28.000000   15.040000    0.0    0.538000    6.575000   \n",
       "\n",
       "              AGE        DIS         RAD        TAX      PTRATIO      B  \\\n",
       "count  472.000000  472.00000  472.000000  472.000000  472.000000  472.0   \n",
       "mean    75.402966    3.68947    3.529661  274.076271   17.745339  396.9   \n",
       "std      4.404142    0.17289    1.091936    9.463446    1.055538    0.0   \n",
       "min     65.200000    3.61500    1.000000  270.000000   15.300000  396.9   \n",
       "25%     77.300000    3.61500    4.000000  270.000000   18.200000  396.9   \n",
       "50%     77.300000    3.61500    4.000000  270.000000   18.200000  396.9   \n",
       "75%     77.300000    3.61500    4.000000  270.000000   18.200000  396.9   \n",
       "max     77.300000    4.09000    4.000000  296.000000   18.200000  396.9   \n",
       "\n",
       "           LSTAT   \n",
       "count  472.000000  \n",
       "mean     9.710466  \n",
       "std      2.041920  \n",
       "min      4.980000  \n",
       "25%     10.590000  \n",
       "50%     10.590000  \n",
       "75%     10.590000  \n",
       "max     10.590000  "
      ]
     },
     "execution_count": 43,
     "metadata": {},
     "output_type": "execute_result"
    }
   ],
   "source": [
    "housing_tr.describe()"
   ]
  },
  {
   "cell_type": "markdown",
   "id": "944193c8-a957-4b45-bb89-3d4b4f982cdc",
   "metadata": {},
   "source": [
    "#scikit-learn design"
   ]
  },
  {
   "cell_type": "markdown",
   "id": "947162b6-7a33-40e5-92be-f347d95cc299",
   "metadata": {},
   "source": [
    "primarily, three types of objects\n",
    "\n",
    "1.Estimators - it estimates some parameter based on a dataset. eg. imputer\n",
    "    it has a fit method and transform method.\n",
    "    fit method- fits the dataset and calulates parmeters\n",
    "        \n",
    "2.Transformers- transform method takes input and returns output based on the\n",
    "    learning from fit().it also has a convenience  function called fit_transform()\n",
    "    which fitS and then transforms\n",
    "\n",
    "3.predictors-Linear Regression model is an example of predictor. \n",
    "    fit() and predict() are two common function. \n",
    "    it also gives score() function which will evaluate the prediction "
   ]
  },
  {
   "cell_type": "markdown",
   "id": "d89eb160-9f80-48b0-a403-146decc8a3c4",
   "metadata": {},
   "source": [
    "## Feature Scaling\n"
   ]
  },
  {
   "cell_type": "markdown",
   "id": "80a502d6-17f5-495d-be03-c95b9ddf29dc",
   "metadata": {},
   "source": [
    "primarly, two type of feature scaling methods:\n",
    "1.min-max scaling (normalization)\n",
    "   (value-min)/(min-max)\n",
    "   sklearn provides a class called min max scaler for this \n",
    "\n",
    "2.Standerdization\n",
    "    (value-mean)/std\n",
    "    sklearn provides a class called standard scaler for this\n",
    "   "
   ]
  },
  {
   "cell_type": "markdown",
   "id": "00e89c4c-432e-4041-b359-d5010b9423a6",
   "metadata": {},
   "source": [
    "## Creating a pipeline"
   ]
  },
  {
   "cell_type": "code",
   "execution_count": 44,
   "id": "a3b9e2f8-ac93-492a-91ab-afb97f31cbd6",
   "metadata": {},
   "outputs": [],
   "source": [
    "\n",
    "from sklearn.pipeline import Pipeline\n",
    "from sklearn.preprocessing import StandardScaler\n",
    "my_pipeline = Pipeline([\n",
    "    ('imputer', SimpleImputer(strategy=\"median\")),\n",
    "#    .....add as many as you want in your pipeline\n",
    "    ('std_scaler', StandardScaler()),\n",
    "])"
   ]
  },
  {
   "cell_type": "code",
   "execution_count": 45,
   "id": "6373654c-deef-4251-8130-cb23485f5a15",
   "metadata": {},
   "outputs": [
    {
     "data": {
      "text/plain": [
       "array([[ 0.4311956 ,  0.4311956 ,  0.4311956 , ...,  0.4311956 ,\n",
       "         0.        ,  0.4311956 ],\n",
       "       [-2.31913311, -2.31913311, -2.31913311, ..., -2.31913311,\n",
       "         0.        , -2.31913311],\n",
       "       [-2.31913311, -2.31913311, -2.31913311, ..., -2.31913311,\n",
       "         0.        , -2.31913311],\n",
       "       ...,\n",
       "       [-2.31913311, -2.31913311, -2.31913311, ..., -2.31913311,\n",
       "         0.        , -2.31913311],\n",
       "       [ 0.4311956 ,  0.4311956 ,  0.4311956 , ...,  0.4311956 ,\n",
       "         0.        ,  0.4311956 ],\n",
       "       [ 0.4311956 ,  0.4311956 ,  0.4311956 , ...,  0.4311956 ,\n",
       "         0.        ,  0.4311956 ]])"
      ]
     },
     "execution_count": 45,
     "metadata": {},
     "output_type": "execute_result"
    }
   ],
   "source": [
    "housing_num_tr = my_pipeline.fit_transform(housing)\n",
    "housing_num_tr"
   ]
  },
  {
   "cell_type": "code",
   "execution_count": 46,
   "id": "e82df9f8-bdd9-488c-bf6c-a4ee41e97329",
   "metadata": {},
   "outputs": [
    {
     "data": {
      "text/plain": [
       "(472, 13)"
      ]
     },
     "execution_count": 46,
     "metadata": {},
     "output_type": "execute_result"
    }
   ],
   "source": [
    "housing_num_tr.shape"
   ]
  },
  {
   "cell_type": "markdown",
   "id": "34ad5a29-3e05-46a9-9475-50a164adf347",
   "metadata": {},
   "source": [
    "## Selectin a desiered model for Dragon Real Estates"
   ]
  },
  {
   "cell_type": "code",
   "execution_count": 47,
   "id": "51776c33-50e1-4927-a415-0b29857d2e45",
   "metadata": {},
   "outputs": [
    {
     "data": {
      "text/html": [
       "<style>#sk-container-id-2 {color: black;}#sk-container-id-2 pre{padding: 0;}#sk-container-id-2 div.sk-toggleable {background-color: white;}#sk-container-id-2 label.sk-toggleable__label {cursor: pointer;display: block;width: 100%;margin-bottom: 0;padding: 0.3em;box-sizing: border-box;text-align: center;}#sk-container-id-2 label.sk-toggleable__label-arrow:before {content: \"▸\";float: left;margin-right: 0.25em;color: #696969;}#sk-container-id-2 label.sk-toggleable__label-arrow:hover:before {color: black;}#sk-container-id-2 div.sk-estimator:hover label.sk-toggleable__label-arrow:before {color: black;}#sk-container-id-2 div.sk-toggleable__content {max-height: 0;max-width: 0;overflow: hidden;text-align: left;background-color: #f0f8ff;}#sk-container-id-2 div.sk-toggleable__content pre {margin: 0.2em;color: black;border-radius: 0.25em;background-color: #f0f8ff;}#sk-container-id-2 input.sk-toggleable__control:checked~div.sk-toggleable__content {max-height: 200px;max-width: 100%;overflow: auto;}#sk-container-id-2 input.sk-toggleable__control:checked~label.sk-toggleable__label-arrow:before {content: \"▾\";}#sk-container-id-2 div.sk-estimator input.sk-toggleable__control:checked~label.sk-toggleable__label {background-color: #d4ebff;}#sk-container-id-2 div.sk-label input.sk-toggleable__control:checked~label.sk-toggleable__label {background-color: #d4ebff;}#sk-container-id-2 input.sk-hidden--visually {border: 0;clip: rect(1px 1px 1px 1px);clip: rect(1px, 1px, 1px, 1px);height: 1px;margin: -1px;overflow: hidden;padding: 0;position: absolute;width: 1px;}#sk-container-id-2 div.sk-estimator {font-family: monospace;background-color: #f0f8ff;border: 1px dotted black;border-radius: 0.25em;box-sizing: border-box;margin-bottom: 0.5em;}#sk-container-id-2 div.sk-estimator:hover {background-color: #d4ebff;}#sk-container-id-2 div.sk-parallel-item::after {content: \"\";width: 100%;border-bottom: 1px solid gray;flex-grow: 1;}#sk-container-id-2 div.sk-label:hover label.sk-toggleable__label {background-color: #d4ebff;}#sk-container-id-2 div.sk-serial::before {content: \"\";position: absolute;border-left: 1px solid gray;box-sizing: border-box;top: 0;bottom: 0;left: 50%;z-index: 0;}#sk-container-id-2 div.sk-serial {display: flex;flex-direction: column;align-items: center;background-color: white;padding-right: 0.2em;padding-left: 0.2em;position: relative;}#sk-container-id-2 div.sk-item {position: relative;z-index: 1;}#sk-container-id-2 div.sk-parallel {display: flex;align-items: stretch;justify-content: center;background-color: white;position: relative;}#sk-container-id-2 div.sk-item::before, #sk-container-id-2 div.sk-parallel-item::before {content: \"\";position: absolute;border-left: 1px solid gray;box-sizing: border-box;top: 0;bottom: 0;left: 50%;z-index: -1;}#sk-container-id-2 div.sk-parallel-item {display: flex;flex-direction: column;z-index: 1;position: relative;background-color: white;}#sk-container-id-2 div.sk-parallel-item:first-child::after {align-self: flex-end;width: 50%;}#sk-container-id-2 div.sk-parallel-item:last-child::after {align-self: flex-start;width: 50%;}#sk-container-id-2 div.sk-parallel-item:only-child::after {width: 0;}#sk-container-id-2 div.sk-dashed-wrapped {border: 1px dashed gray;margin: 0 0.4em 0.5em 0.4em;box-sizing: border-box;padding-bottom: 0.4em;background-color: white;}#sk-container-id-2 div.sk-label label {font-family: monospace;font-weight: bold;display: inline-block;line-height: 1.2em;}#sk-container-id-2 div.sk-label-container {text-align: center;}#sk-container-id-2 div.sk-container {/* jupyter's `normalize.less` sets `[hidden] { display: none; }` but bootstrap.min.css set `[hidden] { display: none !important; }` so we also need the `!important` here to be able to override the default hidden behavior on the sphinx rendered scikit-learn.org. See: https://github.com/scikit-learn/scikit-learn/issues/21755 */display: inline-block !important;position: relative;}#sk-container-id-2 div.sk-text-repr-fallback {display: none;}</style><div id=\"sk-container-id-2\" class=\"sk-top-container\"><div class=\"sk-text-repr-fallback\"><pre>LinearRegression()</pre><b>In a Jupyter environment, please rerun this cell to show the HTML representation or trust the notebook. <br />On GitHub, the HTML representation is unable to render, please try loading this page with nbviewer.org.</b></div><div class=\"sk-container\" hidden><div class=\"sk-item\"><div class=\"sk-estimator sk-toggleable\"><input class=\"sk-toggleable__control sk-hidden--visually\" id=\"sk-estimator-id-2\" type=\"checkbox\" checked><label for=\"sk-estimator-id-2\" class=\"sk-toggleable__label sk-toggleable__label-arrow\">LinearRegression</label><div class=\"sk-toggleable__content\"><pre>LinearRegression()</pre></div></div></div></div></div>"
      ],
      "text/plain": [
       "LinearRegression()"
      ]
     },
     "execution_count": 47,
     "metadata": {},
     "output_type": "execute_result"
    }
   ],
   "source": [
    "from sklearn.linear_model import LinearRegression\n",
    "from sklearn.tree import DecisionTreeRegressor\n",
    "from sklearn.ensemble import RandomForestRegressor\n",
    "#model= linear regresion\n",
    "#model= Decision tree regresion\n",
    "#model= Random Forest Regressor\n",
    "model = LinearRegression()\n",
    "model.fit(housing_num_tr, housing_labels)\n"
   ]
  },
  {
   "cell_type": "code",
   "execution_count": 48,
   "id": "f7362ef9-22af-4230-9ffd-90097beeff25",
   "metadata": {},
   "outputs": [],
   "source": [
    "some_data = housing.iloc[:5]"
   ]
  },
  {
   "cell_type": "code",
   "execution_count": 49,
   "id": "d1d716cc-d971-43f9-998c-b9f7683b1d99",
   "metadata": {},
   "outputs": [],
   "source": [
    "some_labels = housing_labels.iloc[:5]"
   ]
  },
  {
   "cell_type": "code",
   "execution_count": 50,
   "id": "d62f2fb0-5671-44ca-b3bf-5c8f390bed54",
   "metadata": {},
   "outputs": [],
   "source": [
    "prepared_data = my_pipeline.transform(some_data)"
   ]
  },
  {
   "cell_type": "code",
   "execution_count": 51,
   "id": "c6292a3d-6986-4c2c-a1a5-44c864aa9ace",
   "metadata": {},
   "outputs": [
    {
     "data": {
      "text/plain": [
       "array([20.3689374 , 23.98311892, 23.9836072 , 20.3689374 , 20.36880118])"
      ]
     },
     "execution_count": 51,
     "metadata": {},
     "output_type": "execute_result"
    }
   ],
   "source": [
    "model.predict(prepared_data)"
   ]
  },
  {
   "cell_type": "code",
   "execution_count": 52,
   "id": "1844a5b3-e584-48b9-ae03-f7245a877c01",
   "metadata": {
    "scrolled": true
   },
   "outputs": [
    {
     "data": {
      "text/plain": [
       "[20.223, 24.0, 24.0, 20.298, 20.33]"
      ]
     },
     "execution_count": 52,
     "metadata": {},
     "output_type": "execute_result"
    }
   ],
   "source": [
    "list(some_labels)"
   ]
  },
  {
   "cell_type": "markdown",
   "id": "fe966ef3-7f8c-4126-8b3c-0724320b6e0e",
   "metadata": {},
   "source": [
    "## Evaluating the model"
   ]
  },
  {
   "cell_type": "code",
   "execution_count": 53,
   "id": "db4fac99-df81-49da-b3ac-866f53d0665c",
   "metadata": {},
   "outputs": [],
   "source": [
    "from sklearn.metrics import mean_squared_error\n",
    "housing_predictions = model.predict(housing_num_tr)\n",
    "mse = mean_squared_error(housing_labels, housing_predictions)\n",
    "rmse = np.sqrt(mse)"
   ]
  },
  {
   "cell_type": "code",
   "execution_count": 54,
   "id": "6e4471dd-7936-454f-bd03-fc10779f78cb",
   "metadata": {},
   "outputs": [
    {
     "data": {
      "text/plain": [
       "0.16846652237908663"
      ]
     },
     "execution_count": 54,
     "metadata": {},
     "output_type": "execute_result"
    }
   ],
   "source": [
    "rmse"
   ]
  },
  {
   "cell_type": "markdown",
   "id": "a7b5a473-ccbd-4d11-a59f-7c5572ce89e0",
   "metadata": {},
   "source": [
    "## using better evaluation techinque - cross validation"
   ]
  },
  {
   "cell_type": "code",
   "execution_count": 55,
   "id": "a4c68cb2-943c-4c8e-9f01-bf13cf31a7c9",
   "metadata": {},
   "outputs": [
    {
     "data": {
      "text/plain": [
       "array([0.12659021, 0.15378933, 0.17895151, 0.20253358, 0.16340659,\n",
       "       0.16868493, 0.18733478, 0.16334051, 0.18205186, 0.14768561])"
      ]
     },
     "execution_count": 55,
     "metadata": {},
     "output_type": "execute_result"
    }
   ],
   "source": [
    "from sklearn.model_selection import cross_val_score\n",
    "scores = cross_val_score(model, housing_num_tr, housing_labels, scoring=\"neg_mean_squared_error\",cv=10)\n",
    "rmse_scores = np.sqrt(-scores)    \n",
    "rmse_scores"
   ]
  },
  {
   "cell_type": "code",
   "execution_count": 56,
   "id": "b74243f5-dc56-4f54-bff1-100eb596ec2b",
   "metadata": {},
   "outputs": [],
   "source": [
    "def print_scores(scores):\n",
    "    print(\"scores:\",scores)\n",
    "    print(\"mean: \", scores.mean())\n",
    "    print(\"standard deviation: \", scores.std())"
   ]
  },
  {
   "cell_type": "code",
   "execution_count": 57,
   "id": "efece90a-8fb9-47b5-bbdb-54ef104403e6",
   "metadata": {},
   "outputs": [
    {
     "name": "stdout",
     "output_type": "stream",
     "text": [
      "scores: [0.12659021 0.15378933 0.17895151 0.20253358 0.16340659 0.16868493\n",
      " 0.18733478 0.16334051 0.18205186 0.14768561]\n",
      "mean:  0.16743688922517608\n",
      "standard deviation:  0.020623503828958674\n"
     ]
    }
   ],
   "source": [
    "print_scores(rmse_scores)"
   ]
  },
  {
   "cell_type": "markdown",
   "id": "48e405e1-3634-4c95-8b6e-de4ee437eba5",
   "metadata": {},
   "source": [
    "## saving the model"
   ]
  },
  {
   "cell_type": "code",
   "execution_count": 58,
   "id": "6f40c8f4-2047-4e67-9ac0-b1c19e208526",
   "metadata": {},
   "outputs": [
    {
     "data": {
      "text/plain": [
       "['Dragon.joblib']"
      ]
     },
     "execution_count": 58,
     "metadata": {},
     "output_type": "execute_result"
    }
   ],
   "source": [
    "from joblib import dump, load\n",
    "dump(model, 'Dragon.joblib')"
   ]
  },
  {
   "cell_type": "markdown",
   "id": "de7fe327-ba29-4de2-8304-992b3def6d2c",
   "metadata": {},
   "source": [
    "## Testing the model on test data"
   ]
  },
  {
   "cell_type": "code",
   "execution_count": 66,
   "id": "a73507e8-c652-4170-86fc-0315d24748a8",
   "metadata": {},
   "outputs": [
    {
     "name": "stdout",
     "output_type": "stream",
     "text": [
      "[23.98311892 23.98311892 20.3689374  20.3689374  20.3689374  20.3689374\n",
      " 20.3689374  20.3689374  20.3689374  20.3689374  20.3689374  20.3689374\n",
      " 20.3689374  20.3689374  20.3689374  20.3689374  20.3689374  23.98311892\n",
      " 23.98311892 20.3689374  20.3689374  20.3689374  20.3689374  20.3689374\n",
      " 20.3689374  20.3689374  20.3689374  20.3689374  20.3689374  20.3689374\n",
      " 20.3689374  23.98311892 20.3689374  23.98311892 20.3689374  20.3689374\n",
      " 20.3689374  20.3689374  20.3689374  23.98311892 20.3689374  20.3689374\n",
      " 20.3689374  20.3689374  20.3689374  20.3689374  20.3689374  20.3689374\n",
      " 20.3689374  20.3689374  20.3689374  20.3689374  20.3689374  20.3689374\n",
      " 20.3689374  20.3689374  23.98311892 20.3689374  20.3689374  20.3689374\n",
      " 20.3689374  20.3689374  20.3689374  20.3689374  20.3689374  20.3689374\n",
      " 20.3689374  20.3689374  23.98311892 20.3689374  20.3689374  23.98311892\n",
      " 20.3689374  20.3689374  20.3689374  20.3689374  20.3689374  20.3689374\n",
      " 20.3689374  20.3689374  20.3689374  20.3689374  20.3689374  20.3689374\n",
      " 20.3689374  20.3689374  20.3689374  23.98311892 20.3689374  20.3689374\n",
      " 23.98311892 20.3689374  20.3689374  20.3689374  23.98311892 20.3689374\n",
      " 20.3689374  20.3689374  20.3689374  20.3689374  20.3689374  20.3689374\n",
      " 23.98311892 20.3689374  23.9836072  20.3689374  20.3689374  23.9836072\n",
      " 20.3689374  23.98311892 20.3689374  20.3689374  20.3689374  23.98311892\n",
      " 20.3689374  20.3689374  23.98367187 23.98367187] [24.0, 24.0, 20.44, 20.457, 20.442, 20.432, 20.207, 20.379, 20.527, 20.425, 20.181, 20.196, 20.539, 20.357, 20.441, 20.345, 20.101, 24.0, 24.0, 20.455, 20.293, 20.127, 20.344, 20.538, 20.367, 20.18, 20.155, 20.414, 20.309, 20.236, 20.464, 24.0, 20.393, 24.0, 20.157, 20.182, 20.338, 20.355, 20.218, 24.0, 20.72, 20.476, 20.372, 20.481, 20.71, 20.421, 20.122, 20.384, 20.303, 20.55, 20.305, 20.401, 20.311, 20.281, 20.504, 20.458, 24.0, 20.179, 20.526, 20.65, 20.332, 20.258, 20.132, 20.209, 20.235, 20.217, 20.153, 20.104, 24.0, 20.239, 20.325, 24.0, 20.351, 20.474, 20.541, 20.553, 20.45, 20.167, 20.424, 20.47, 20.94, 20.128, 20.437, 20.502, 20.87, 20.515, 20.68, 24.0, 20.279, 20.64, 24.0, 20.137, 20.42, 20.126, 24.0, 20.296, 20.427, 20.353, 20.171, 20.274, 20.166, 20.254, 24.0, 20.233, 24.0, 20.226, 20.242, 24.0, 20.261, 24.0, 20.383, 20.96, 20.292, 24.0, 20.31, 20.1, 24.0, 24.0]\n"
     ]
    }
   ],
   "source": [
    "x_test = strat_test_set.drop(\"MEDV\",axis=1)\n",
    "Y_test = strat_test_set[\"MEDV\"].copy()\n",
    "x_test_prepared= my_pipeline.transform(x_test)\n",
    "final_predictions = model.predict(x_test_prepared)\n",
    "final_mse = mean_squared_error(Y_test, final_predictions)\n",
    "final_rmse = np.sqrt(final_mse)\n",
    "print(final_predictions, list(Y_test))\n"
   ]
  },
  {
   "cell_type": "code",
   "execution_count": 63,
   "id": "05b53958-b7ca-4125-97dc-5562ba88a30e",
   "metadata": {},
   "outputs": [
    {
     "data": {
      "text/plain": [
       "0.16233251284294892"
      ]
     },
     "execution_count": 63,
     "metadata": {},
     "output_type": "execute_result"
    }
   ],
   "source": [
    "final_rmse"
   ]
  },
  {
   "cell_type": "markdown",
   "id": "2d21e344-f18c-4259-8181-dd7434fe2205",
   "metadata": {},
   "source": [
    "## using the model"
   ]
  },
  {
   "cell_type": "code",
   "execution_count": 72,
   "id": "10d1d956-3fab-47b1-9b89-c5b25336cd8b",
   "metadata": {},
   "outputs": [
    {
     "data": {
      "text/plain": [
       "array([1.79316454e+14])"
      ]
     },
     "execution_count": 72,
     "metadata": {},
     "output_type": "execute_result"
    }
   ],
   "source": [
    "from joblib import dump, load\n",
    "import numpy as np\n",
    "model= load( 'Dragon.joblib')\n",
    "feature= np.array([[4.294e-02, 2.800e+01, 1.504e+01, 0.000e+00, 4.640e-01, 6.249e+00,\n",
    "       7.730e+01, 3.615e+00, 4.000e+00, 2.700e+02, 1.820e+01, 3.969e+02,\n",
    "       1.059e+01]])\n",
    "model.predict(feature)\n",
    "\n"
   ]
  },
  {
   "cell_type": "code",
   "execution_count": null,
   "id": "251837da-c957-4382-93bd-1975cddf3c64",
   "metadata": {},
   "outputs": [],
   "source": []
  }
 ],
 "metadata": {
  "kernelspec": {
   "display_name": "Python 3 (ipykernel)",
   "language": "python",
   "name": "python3"
  },
  "language_info": {
   "codemirror_mode": {
    "name": "ipython",
    "version": 3
   },
   "file_extension": ".py",
   "mimetype": "text/x-python",
   "name": "python",
   "nbconvert_exporter": "python",
   "pygments_lexer": "ipython3",
   "version": "3.11.4"
  }
 },
 "nbformat": 4,
 "nbformat_minor": 5
}
